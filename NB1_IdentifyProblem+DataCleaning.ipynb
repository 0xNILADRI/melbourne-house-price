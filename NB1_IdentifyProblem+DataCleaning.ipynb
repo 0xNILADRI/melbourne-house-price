{
 "cells": [
  {
   "cell_type": "markdown",
   "id": "incoming-satin",
   "metadata": {},
   "source": [
    "# Using Predictive Analysis To Predict Melbourne House Price  \n",
    "\n",
    "By Niladri Ghosh"
   ]
  },
  {
   "cell_type": "markdown",
   "id": "packed-norway",
   "metadata": {},
   "source": [
    "## 1. Identify Problem\n",
    "\n",
    "Real Estate has became one of the main places to put your investment in recent times. With the current instability in the market it has became too risky to invest in stock markets, gold prices constanly going down and goverment not considering crypocurrency as a serious option. That being said, owing a property seems to be a viable option to put your money in. So with this motivation we need to analyze what fectors leads to the price of a property in an area, we'll be predicting house prices in Melbourne, Australia."
   ]
  },
  {
   "cell_type": "markdown",
   "id": "gross-victoria",
   "metadata": {},
   "source": [
    "### 1.1 Expected Outcome\n",
    "\n",
    "Given house price data from Domain.com.au (and other sources) provides various features of a particular property like number of rooms, address, suburb ,etc. Since this is a __regression problem__, our __final output would be the price of the house estimated by our model__."
   ]
  },
  {
   "cell_type": "markdown",
   "id": "concrete-allowance",
   "metadata": {},
   "source": [
    "### 1.2 Objective\n",
    "\n",
    "Since many features in our data is categorical value, we need to find appropriate techniques to convert them into integers, as our model only inputs numerical values and finally predict house prices. In machine learning this is a regression problem.\n",
    "\n",
    "> Thus, the goal is to estimate the price of various houses provided the different unique features of the property. To acheive this we have used machine learning regression methods to fit a function that can predict the continuos values (price) for the new inputs."
   ]
  },
  {
   "cell_type": "markdown",
   "id": "premier-postage",
   "metadata": {},
   "source": [
    "### 1.3 Identify Data Sources\n",
    "\n",
    "The [Melbourne House Price](https://www.kaggle.com/anthonypino/melbourne-housing-market?select=Melbourne_housing_FULL.csv) dataset is available at Kaggle by [Tony Pino](https://www.kaggle.com/anthonypino). The dataset contains 34,857 rows of data and 21 columns (20 features and 1 taget).\n",
    "\n",
    "* The 5th column provides the price of the house.\n",
    "* Columns 1-4 and 6-21 provides various details for the given house."
   ]
  },
  {
   "cell_type": "markdown",
   "id": "colonial-observation",
   "metadata": {},
   "source": [
    "__Getting Started : Load libraries and set options__"
   ]
  },
  {
   "cell_type": "code",
   "execution_count": 1,
   "id": "meaningful-berlin",
   "metadata": {},
   "outputs": [],
   "source": [
    "# load libraries\n",
    "import numpy as np\n",
    "import pandas as pd\n",
    "\n",
    "# display all columns\n",
    "pd.set_option('display.max_columns', None)"
   ]
  },
  {
   "cell_type": "markdown",
   "id": "threatened-anxiety",
   "metadata": {},
   "source": [
    "__Load Dataset__\n",
    "\n",
    "First load the supplied CSV file using Pandas read_csv function."
   ]
  },
  {
   "cell_type": "code",
   "execution_count": 2,
   "id": "lyric-colonial",
   "metadata": {},
   "outputs": [],
   "source": [
    "# read data\n",
    "df = pd.read_csv('data/data_full.csv')"
   ]
  },
  {
   "cell_type": "markdown",
   "id": "lesbian-calendar",
   "metadata": {},
   "source": [
    "__Inspecting the data__\n",
    "\n",
    "The first step is to visually inspect the new dataset. There are multiple ways to acheive this:\n",
    "* The easiest way is to fetch first 5 rows is using DataFrame.head(), here df.head().\n",
    "* Alternatively we can fetch the last 5 rows using DataFrame.tail(), here df.tail().\n",
    "\n",
    "__NOTE:__ \n",
    "\n",
    "For both the above methods we can add a parameter inside the parenthesis '()' to specify how many rows we want to display, thus we can inspect the data."
   ]
  },
  {
   "cell_type": "code",
   "execution_count": 3,
   "id": "french-theta",
   "metadata": {},
   "outputs": [
    {
     "data": {
      "text/html": [
       "<div>\n",
       "<style scoped>\n",
       "    .dataframe tbody tr th:only-of-type {\n",
       "        vertical-align: middle;\n",
       "    }\n",
       "\n",
       "    .dataframe tbody tr th {\n",
       "        vertical-align: top;\n",
       "    }\n",
       "\n",
       "    .dataframe thead th {\n",
       "        text-align: right;\n",
       "    }\n",
       "</style>\n",
       "<table border=\"1\" class=\"dataframe\">\n",
       "  <thead>\n",
       "    <tr style=\"text-align: right;\">\n",
       "      <th></th>\n",
       "      <th>Suburb</th>\n",
       "      <th>Address</th>\n",
       "      <th>Rooms</th>\n",
       "      <th>Type</th>\n",
       "      <th>Price</th>\n",
       "      <th>Method</th>\n",
       "      <th>SellerG</th>\n",
       "      <th>Date</th>\n",
       "      <th>Distance</th>\n",
       "      <th>Postcode</th>\n",
       "      <th>Bedroom2</th>\n",
       "      <th>Bathroom</th>\n",
       "      <th>Car</th>\n",
       "      <th>Landsize</th>\n",
       "      <th>BuildingArea</th>\n",
       "      <th>YearBuilt</th>\n",
       "      <th>CouncilArea</th>\n",
       "      <th>Lattitude</th>\n",
       "      <th>Longtitude</th>\n",
       "      <th>Regionname</th>\n",
       "      <th>Propertycount</th>\n",
       "    </tr>\n",
       "  </thead>\n",
       "  <tbody>\n",
       "    <tr>\n",
       "      <th>0</th>\n",
       "      <td>Abbotsford</td>\n",
       "      <td>68 Studley St</td>\n",
       "      <td>2</td>\n",
       "      <td>h</td>\n",
       "      <td>NaN</td>\n",
       "      <td>SS</td>\n",
       "      <td>Jellis</td>\n",
       "      <td>3/09/2016</td>\n",
       "      <td>2.5</td>\n",
       "      <td>3067.0</td>\n",
       "      <td>2.0</td>\n",
       "      <td>1.0</td>\n",
       "      <td>1.0</td>\n",
       "      <td>126.0</td>\n",
       "      <td>NaN</td>\n",
       "      <td>NaN</td>\n",
       "      <td>Yarra City Council</td>\n",
       "      <td>-37.8014</td>\n",
       "      <td>144.9958</td>\n",
       "      <td>Northern Metropolitan</td>\n",
       "      <td>4019.0</td>\n",
       "    </tr>\n",
       "    <tr>\n",
       "      <th>1</th>\n",
       "      <td>Abbotsford</td>\n",
       "      <td>85 Turner St</td>\n",
       "      <td>2</td>\n",
       "      <td>h</td>\n",
       "      <td>1480000.0</td>\n",
       "      <td>S</td>\n",
       "      <td>Biggin</td>\n",
       "      <td>3/12/2016</td>\n",
       "      <td>2.5</td>\n",
       "      <td>3067.0</td>\n",
       "      <td>2.0</td>\n",
       "      <td>1.0</td>\n",
       "      <td>1.0</td>\n",
       "      <td>202.0</td>\n",
       "      <td>NaN</td>\n",
       "      <td>NaN</td>\n",
       "      <td>Yarra City Council</td>\n",
       "      <td>-37.7996</td>\n",
       "      <td>144.9984</td>\n",
       "      <td>Northern Metropolitan</td>\n",
       "      <td>4019.0</td>\n",
       "    </tr>\n",
       "    <tr>\n",
       "      <th>2</th>\n",
       "      <td>Abbotsford</td>\n",
       "      <td>25 Bloomburg St</td>\n",
       "      <td>2</td>\n",
       "      <td>h</td>\n",
       "      <td>1035000.0</td>\n",
       "      <td>S</td>\n",
       "      <td>Biggin</td>\n",
       "      <td>4/02/2016</td>\n",
       "      <td>2.5</td>\n",
       "      <td>3067.0</td>\n",
       "      <td>2.0</td>\n",
       "      <td>1.0</td>\n",
       "      <td>0.0</td>\n",
       "      <td>156.0</td>\n",
       "      <td>79.0</td>\n",
       "      <td>1900.0</td>\n",
       "      <td>Yarra City Council</td>\n",
       "      <td>-37.8079</td>\n",
       "      <td>144.9934</td>\n",
       "      <td>Northern Metropolitan</td>\n",
       "      <td>4019.0</td>\n",
       "    </tr>\n",
       "    <tr>\n",
       "      <th>3</th>\n",
       "      <td>Abbotsford</td>\n",
       "      <td>18/659 Victoria St</td>\n",
       "      <td>3</td>\n",
       "      <td>u</td>\n",
       "      <td>NaN</td>\n",
       "      <td>VB</td>\n",
       "      <td>Rounds</td>\n",
       "      <td>4/02/2016</td>\n",
       "      <td>2.5</td>\n",
       "      <td>3067.0</td>\n",
       "      <td>3.0</td>\n",
       "      <td>2.0</td>\n",
       "      <td>1.0</td>\n",
       "      <td>0.0</td>\n",
       "      <td>NaN</td>\n",
       "      <td>NaN</td>\n",
       "      <td>Yarra City Council</td>\n",
       "      <td>-37.8114</td>\n",
       "      <td>145.0116</td>\n",
       "      <td>Northern Metropolitan</td>\n",
       "      <td>4019.0</td>\n",
       "    </tr>\n",
       "    <tr>\n",
       "      <th>4</th>\n",
       "      <td>Abbotsford</td>\n",
       "      <td>5 Charles St</td>\n",
       "      <td>3</td>\n",
       "      <td>h</td>\n",
       "      <td>1465000.0</td>\n",
       "      <td>SP</td>\n",
       "      <td>Biggin</td>\n",
       "      <td>4/03/2017</td>\n",
       "      <td>2.5</td>\n",
       "      <td>3067.0</td>\n",
       "      <td>3.0</td>\n",
       "      <td>2.0</td>\n",
       "      <td>0.0</td>\n",
       "      <td>134.0</td>\n",
       "      <td>150.0</td>\n",
       "      <td>1900.0</td>\n",
       "      <td>Yarra City Council</td>\n",
       "      <td>-37.8093</td>\n",
       "      <td>144.9944</td>\n",
       "      <td>Northern Metropolitan</td>\n",
       "      <td>4019.0</td>\n",
       "    </tr>\n",
       "    <tr>\n",
       "      <th>5</th>\n",
       "      <td>Abbotsford</td>\n",
       "      <td>40 Federation La</td>\n",
       "      <td>3</td>\n",
       "      <td>h</td>\n",
       "      <td>850000.0</td>\n",
       "      <td>PI</td>\n",
       "      <td>Biggin</td>\n",
       "      <td>4/03/2017</td>\n",
       "      <td>2.5</td>\n",
       "      <td>3067.0</td>\n",
       "      <td>3.0</td>\n",
       "      <td>2.0</td>\n",
       "      <td>1.0</td>\n",
       "      <td>94.0</td>\n",
       "      <td>NaN</td>\n",
       "      <td>NaN</td>\n",
       "      <td>Yarra City Council</td>\n",
       "      <td>-37.7969</td>\n",
       "      <td>144.9969</td>\n",
       "      <td>Northern Metropolitan</td>\n",
       "      <td>4019.0</td>\n",
       "    </tr>\n",
       "    <tr>\n",
       "      <th>6</th>\n",
       "      <td>Abbotsford</td>\n",
       "      <td>55a Park St</td>\n",
       "      <td>4</td>\n",
       "      <td>h</td>\n",
       "      <td>1600000.0</td>\n",
       "      <td>VB</td>\n",
       "      <td>Nelson</td>\n",
       "      <td>4/06/2016</td>\n",
       "      <td>2.5</td>\n",
       "      <td>3067.0</td>\n",
       "      <td>3.0</td>\n",
       "      <td>1.0</td>\n",
       "      <td>2.0</td>\n",
       "      <td>120.0</td>\n",
       "      <td>142.0</td>\n",
       "      <td>2014.0</td>\n",
       "      <td>Yarra City Council</td>\n",
       "      <td>-37.8072</td>\n",
       "      <td>144.9941</td>\n",
       "      <td>Northern Metropolitan</td>\n",
       "      <td>4019.0</td>\n",
       "    </tr>\n",
       "    <tr>\n",
       "      <th>7</th>\n",
       "      <td>Abbotsford</td>\n",
       "      <td>16 Maugie St</td>\n",
       "      <td>4</td>\n",
       "      <td>h</td>\n",
       "      <td>NaN</td>\n",
       "      <td>SN</td>\n",
       "      <td>Nelson</td>\n",
       "      <td>6/08/2016</td>\n",
       "      <td>2.5</td>\n",
       "      <td>3067.0</td>\n",
       "      <td>3.0</td>\n",
       "      <td>2.0</td>\n",
       "      <td>2.0</td>\n",
       "      <td>400.0</td>\n",
       "      <td>220.0</td>\n",
       "      <td>2006.0</td>\n",
       "      <td>Yarra City Council</td>\n",
       "      <td>-37.7965</td>\n",
       "      <td>144.9965</td>\n",
       "      <td>Northern Metropolitan</td>\n",
       "      <td>4019.0</td>\n",
       "    </tr>\n",
       "    <tr>\n",
       "      <th>8</th>\n",
       "      <td>Abbotsford</td>\n",
       "      <td>53 Turner St</td>\n",
       "      <td>2</td>\n",
       "      <td>h</td>\n",
       "      <td>NaN</td>\n",
       "      <td>S</td>\n",
       "      <td>Biggin</td>\n",
       "      <td>6/08/2016</td>\n",
       "      <td>2.5</td>\n",
       "      <td>3067.0</td>\n",
       "      <td>4.0</td>\n",
       "      <td>1.0</td>\n",
       "      <td>2.0</td>\n",
       "      <td>201.0</td>\n",
       "      <td>NaN</td>\n",
       "      <td>1900.0</td>\n",
       "      <td>Yarra City Council</td>\n",
       "      <td>-37.7995</td>\n",
       "      <td>144.9974</td>\n",
       "      <td>Northern Metropolitan</td>\n",
       "      <td>4019.0</td>\n",
       "    </tr>\n",
       "    <tr>\n",
       "      <th>9</th>\n",
       "      <td>Abbotsford</td>\n",
       "      <td>99 Turner St</td>\n",
       "      <td>2</td>\n",
       "      <td>h</td>\n",
       "      <td>NaN</td>\n",
       "      <td>S</td>\n",
       "      <td>Collins</td>\n",
       "      <td>6/08/2016</td>\n",
       "      <td>2.5</td>\n",
       "      <td>3067.0</td>\n",
       "      <td>3.0</td>\n",
       "      <td>2.0</td>\n",
       "      <td>1.0</td>\n",
       "      <td>202.0</td>\n",
       "      <td>NaN</td>\n",
       "      <td>1900.0</td>\n",
       "      <td>Yarra City Council</td>\n",
       "      <td>-37.7996</td>\n",
       "      <td>144.9989</td>\n",
       "      <td>Northern Metropolitan</td>\n",
       "      <td>4019.0</td>\n",
       "    </tr>\n",
       "  </tbody>\n",
       "</table>\n",
       "</div>"
      ],
      "text/plain": [
       "       Suburb             Address  Rooms Type      Price Method  SellerG  \\\n",
       "0  Abbotsford       68 Studley St      2    h        NaN     SS   Jellis   \n",
       "1  Abbotsford        85 Turner St      2    h  1480000.0      S   Biggin   \n",
       "2  Abbotsford     25 Bloomburg St      2    h  1035000.0      S   Biggin   \n",
       "3  Abbotsford  18/659 Victoria St      3    u        NaN     VB   Rounds   \n",
       "4  Abbotsford        5 Charles St      3    h  1465000.0     SP   Biggin   \n",
       "5  Abbotsford    40 Federation La      3    h   850000.0     PI   Biggin   \n",
       "6  Abbotsford         55a Park St      4    h  1600000.0     VB   Nelson   \n",
       "7  Abbotsford        16 Maugie St      4    h        NaN     SN   Nelson   \n",
       "8  Abbotsford        53 Turner St      2    h        NaN      S   Biggin   \n",
       "9  Abbotsford        99 Turner St      2    h        NaN      S  Collins   \n",
       "\n",
       "        Date  Distance  Postcode  Bedroom2  Bathroom  Car  Landsize  \\\n",
       "0  3/09/2016       2.5    3067.0       2.0       1.0  1.0     126.0   \n",
       "1  3/12/2016       2.5    3067.0       2.0       1.0  1.0     202.0   \n",
       "2  4/02/2016       2.5    3067.0       2.0       1.0  0.0     156.0   \n",
       "3  4/02/2016       2.5    3067.0       3.0       2.0  1.0       0.0   \n",
       "4  4/03/2017       2.5    3067.0       3.0       2.0  0.0     134.0   \n",
       "5  4/03/2017       2.5    3067.0       3.0       2.0  1.0      94.0   \n",
       "6  4/06/2016       2.5    3067.0       3.0       1.0  2.0     120.0   \n",
       "7  6/08/2016       2.5    3067.0       3.0       2.0  2.0     400.0   \n",
       "8  6/08/2016       2.5    3067.0       4.0       1.0  2.0     201.0   \n",
       "9  6/08/2016       2.5    3067.0       3.0       2.0  1.0     202.0   \n",
       "\n",
       "   BuildingArea  YearBuilt         CouncilArea  Lattitude  Longtitude  \\\n",
       "0           NaN        NaN  Yarra City Council   -37.8014    144.9958   \n",
       "1           NaN        NaN  Yarra City Council   -37.7996    144.9984   \n",
       "2          79.0     1900.0  Yarra City Council   -37.8079    144.9934   \n",
       "3           NaN        NaN  Yarra City Council   -37.8114    145.0116   \n",
       "4         150.0     1900.0  Yarra City Council   -37.8093    144.9944   \n",
       "5           NaN        NaN  Yarra City Council   -37.7969    144.9969   \n",
       "6         142.0     2014.0  Yarra City Council   -37.8072    144.9941   \n",
       "7         220.0     2006.0  Yarra City Council   -37.7965    144.9965   \n",
       "8           NaN     1900.0  Yarra City Council   -37.7995    144.9974   \n",
       "9           NaN     1900.0  Yarra City Council   -37.7996    144.9989   \n",
       "\n",
       "              Regionname  Propertycount  \n",
       "0  Northern Metropolitan         4019.0  \n",
       "1  Northern Metropolitan         4019.0  \n",
       "2  Northern Metropolitan         4019.0  \n",
       "3  Northern Metropolitan         4019.0  \n",
       "4  Northern Metropolitan         4019.0  \n",
       "5  Northern Metropolitan         4019.0  \n",
       "6  Northern Metropolitan         4019.0  \n",
       "7  Northern Metropolitan         4019.0  \n",
       "8  Northern Metropolitan         4019.0  \n",
       "9  Northern Metropolitan         4019.0  "
      ]
     },
     "execution_count": 3,
     "metadata": {},
     "output_type": "execute_result"
    }
   ],
   "source": [
    "df.head(10)"
   ]
  },
  {
   "cell_type": "code",
   "execution_count": 4,
   "id": "hybrid-panel",
   "metadata": {},
   "outputs": [
    {
     "data": {
      "text/plain": [
       "(34857, 21)"
      ]
     },
     "execution_count": 4,
     "metadata": {},
     "output_type": "execute_result"
    }
   ],
   "source": [
    "# check shape of the given data\n",
    "df.shape"
   ]
  },
  {
   "cell_type": "markdown",
   "id": "planned-armenia",
   "metadata": {},
   "source": [
    "We can observe here the number of 34,857 rows, each with 21 columns.\n",
    "\n",
    "On contrary we can use use info() method provided by pandas to generate a consise summary of the data. It provides the detail about each column, number of rows, null values, the data type and the memory usage."
   ]
  },
  {
   "cell_type": "code",
   "execution_count": 5,
   "id": "irish-shopper",
   "metadata": {},
   "outputs": [
    {
     "name": "stdout",
     "output_type": "stream",
     "text": [
      "<class 'pandas.core.frame.DataFrame'>\n",
      "RangeIndex: 34857 entries, 0 to 34856\n",
      "Data columns (total 21 columns):\n",
      " #   Column         Non-Null Count  Dtype  \n",
      "---  ------         --------------  -----  \n",
      " 0   Suburb         34857 non-null  object \n",
      " 1   Address        34857 non-null  object \n",
      " 2   Rooms          34857 non-null  int64  \n",
      " 3   Type           34857 non-null  object \n",
      " 4   Price          27247 non-null  float64\n",
      " 5   Method         34857 non-null  object \n",
      " 6   SellerG        34857 non-null  object \n",
      " 7   Date           34857 non-null  object \n",
      " 8   Distance       34856 non-null  float64\n",
      " 9   Postcode       34856 non-null  float64\n",
      " 10  Bedroom2       26640 non-null  float64\n",
      " 11  Bathroom       26631 non-null  float64\n",
      " 12  Car            26129 non-null  float64\n",
      " 13  Landsize       23047 non-null  float64\n",
      " 14  BuildingArea   13742 non-null  float64\n",
      " 15  YearBuilt      15551 non-null  float64\n",
      " 16  CouncilArea    34854 non-null  object \n",
      " 17  Lattitude      26881 non-null  float64\n",
      " 18  Longtitude     26881 non-null  float64\n",
      " 19  Regionname     34854 non-null  object \n",
      " 20  Propertycount  34854 non-null  float64\n",
      "dtypes: float64(12), int64(1), object(8)\n",
      "memory usage: 5.6+ MB\n"
     ]
    }
   ],
   "source": [
    "df.info()"
   ]
  },
  {
   "cell_type": "markdown",
   "id": "blind-picking",
   "metadata": {},
   "source": [
    "Check for duplicate values using pandas dataframe duplicated method. "
   ]
  },
  {
   "cell_type": "code",
   "execution_count": 6,
   "id": "bigger-nepal",
   "metadata": {},
   "outputs": [
    {
     "data": {
      "text/html": [
       "<div>\n",
       "<style scoped>\n",
       "    .dataframe tbody tr th:only-of-type {\n",
       "        vertical-align: middle;\n",
       "    }\n",
       "\n",
       "    .dataframe tbody tr th {\n",
       "        vertical-align: top;\n",
       "    }\n",
       "\n",
       "    .dataframe thead th {\n",
       "        text-align: right;\n",
       "    }\n",
       "</style>\n",
       "<table border=\"1\" class=\"dataframe\">\n",
       "  <thead>\n",
       "    <tr style=\"text-align: right;\">\n",
       "      <th></th>\n",
       "      <th>Suburb</th>\n",
       "      <th>Address</th>\n",
       "      <th>Rooms</th>\n",
       "      <th>Type</th>\n",
       "      <th>Price</th>\n",
       "      <th>Method</th>\n",
       "      <th>SellerG</th>\n",
       "      <th>Date</th>\n",
       "      <th>Distance</th>\n",
       "      <th>Postcode</th>\n",
       "      <th>Bedroom2</th>\n",
       "      <th>Bathroom</th>\n",
       "      <th>Car</th>\n",
       "      <th>Landsize</th>\n",
       "      <th>BuildingArea</th>\n",
       "      <th>YearBuilt</th>\n",
       "      <th>CouncilArea</th>\n",
       "      <th>Lattitude</th>\n",
       "      <th>Longtitude</th>\n",
       "      <th>Regionname</th>\n",
       "      <th>Propertycount</th>\n",
       "    </tr>\n",
       "  </thead>\n",
       "  <tbody>\n",
       "    <tr>\n",
       "      <th>15858</th>\n",
       "      <td>Nunawading</td>\n",
       "      <td>1/7 Lilian St</td>\n",
       "      <td>3</td>\n",
       "      <td>t</td>\n",
       "      <td>NaN</td>\n",
       "      <td>SP</td>\n",
       "      <td>Jellis</td>\n",
       "      <td>17/06/2017</td>\n",
       "      <td>15.4</td>\n",
       "      <td>3131.0</td>\n",
       "      <td>3.0</td>\n",
       "      <td>3.0</td>\n",
       "      <td>2.0</td>\n",
       "      <td>405.0</td>\n",
       "      <td>226.0</td>\n",
       "      <td>2000.0</td>\n",
       "      <td>Manningham City Council</td>\n",
       "      <td>-37.82678</td>\n",
       "      <td>145.16777</td>\n",
       "      <td>Eastern Metropolitan</td>\n",
       "      <td>4973.0</td>\n",
       "    </tr>\n",
       "  </tbody>\n",
       "</table>\n",
       "</div>"
      ],
      "text/plain": [
       "           Suburb        Address  Rooms Type  Price Method SellerG  \\\n",
       "15858  Nunawading  1/7 Lilian St      3    t    NaN     SP  Jellis   \n",
       "\n",
       "             Date  Distance  Postcode  Bedroom2  Bathroom  Car  Landsize  \\\n",
       "15858  17/06/2017      15.4    3131.0       3.0       3.0  2.0     405.0   \n",
       "\n",
       "       BuildingArea  YearBuilt              CouncilArea  Lattitude  \\\n",
       "15858         226.0     2000.0  Manningham City Council  -37.82678   \n",
       "\n",
       "       Longtitude            Regionname  Propertycount  \n",
       "15858   145.16777  Eastern Metropolitan         4973.0  "
      ]
     },
     "execution_count": 6,
     "metadata": {},
     "output_type": "execute_result"
    }
   ],
   "source": [
    "# check total duplicated values\n",
    "df[df.duplicated()]"
   ]
  },
  {
   "cell_type": "markdown",
   "id": "phantom-entry",
   "metadata": {},
   "source": [
    "We have only single duplicate entry therefor we have removed it."
   ]
  },
  {
   "cell_type": "code",
   "execution_count": 7,
   "id": "junior-border",
   "metadata": {},
   "outputs": [],
   "source": [
    "#remove duplicate from dataframe\n",
    "df.drop_duplicates(inplace=True)"
   ]
  },
  {
   "cell_type": "markdown",
   "id": "premium-accused",
   "metadata": {},
   "source": [
    "The pandas method __dtypes.value_counts()__ provides the number of columns of each type in the dataframe."
   ]
  },
  {
   "cell_type": "code",
   "execution_count": 8,
   "id": "employed-medline",
   "metadata": {},
   "outputs": [
    {
     "data": {
      "text/plain": [
       "float64    12\n",
       "object      8\n",
       "int64       1\n",
       "dtype: int64"
      ]
     },
     "execution_count": 8,
     "metadata": {},
     "output_type": "execute_result"
    }
   ],
   "source": [
    "df.dtypes.value_counts()"
   ]
  },
  {
   "cell_type": "markdown",
   "id": "defined-decision",
   "metadata": {},
   "source": [
    "From the above results, out of 21 columns 12 are float values (precise with decimals), 8 are object (character values) and 1 is integer value."
   ]
  },
  {
   "cell_type": "code",
   "execution_count": 9,
   "id": "bigger-color",
   "metadata": {},
   "outputs": [
    {
     "data": {
      "text/plain": [
       "Suburb           False\n",
       "Address          False\n",
       "Rooms            False\n",
       "Type             False\n",
       "Price             True\n",
       "Method           False\n",
       "SellerG          False\n",
       "Date             False\n",
       "Distance          True\n",
       "Postcode          True\n",
       "Bedroom2          True\n",
       "Bathroom          True\n",
       "Car               True\n",
       "Landsize          True\n",
       "BuildingArea      True\n",
       "YearBuilt         True\n",
       "CouncilArea       True\n",
       "Lattitude         True\n",
       "Longtitude        True\n",
       "Regionname        True\n",
       "Propertycount     True\n",
       "dtype: bool"
      ]
     },
     "execution_count": 9,
     "metadata": {},
     "output_type": "execute_result"
    }
   ],
   "source": [
    "# check for null values\n",
    "df.isnull().any()"
   ]
  },
  {
   "cell_type": "markdown",
   "id": "separated-navigation",
   "metadata": {},
   "source": [
    "From the above result we can see that many of the columns contains null values in it. We will have to apply various methods by assessing them carefully and get rid of them."
   ]
  },
  {
   "cell_type": "markdown",
   "id": "subject-clarity",
   "metadata": {},
   "source": [
    "__Check for null values__\n",
    "\n",
    "We need to assess how many null values are present in each column in order to fix the issue. If the values are low we can straight away remove them, if not we can fill them by various measures of centrality (mean, mediam, mode) or by any othe means. But first of all we need to carefully analyze it."
   ]
  },
  {
   "cell_type": "code",
   "execution_count": 10,
   "id": "grave-jewel",
   "metadata": {},
   "outputs": [],
   "source": [
    "def nullvalper(dataframe):\n",
    "    res = {'col':[],'val':[]}\n",
    "    for column in dataframe.columns:\n",
    "        if df[column].isnull().any() == True:\n",
    "            print(\"{} : {:.4f}\".format(\n",
    "                column,(len(dataframe[column])-dataframe[column].count())/len(dataframe)*100))\n",
    "            #res['col'].append(column)\n",
    "            #res['val'].append(round((len(dataframe[column])-dataframe[column].count())/len(dataframe),))\n",
    "    #return res"
   ]
  },
  {
   "cell_type": "code",
   "execution_count": 11,
   "id": "portuguese-dairy",
   "metadata": {},
   "outputs": [
    {
     "name": "stdout",
     "output_type": "stream",
     "text": [
      "Price : 21.8298\n",
      "Distance : 0.0029\n",
      "Postcode : 0.0029\n",
      "Bedroom2 : 23.5741\n",
      "Bathroom : 23.6000\n",
      "Car : 25.0402\n",
      "Landsize : 33.8823\n",
      "BuildingArea : 60.5778\n",
      "YearBuilt : 55.3879\n",
      "CouncilArea : 0.0086\n",
      "Lattitude : 22.8827\n",
      "Longtitude : 22.8827\n",
      "Regionname : 0.0086\n",
      "Propertycount : 0.0086\n"
     ]
    }
   ],
   "source": [
    "# check null percentage\n",
    "nullvalper(df)"
   ]
  },
  {
   "cell_type": "markdown",
   "id": "thermal-upgrade",
   "metadata": {},
   "source": [
    "Since __Price__ is our main target, we shall __remove__ the __null values__ for accurate predictions."
   ]
  },
  {
   "cell_type": "code",
   "execution_count": 12,
   "id": "interstate-product",
   "metadata": {},
   "outputs": [],
   "source": [
    "df = df.dropna(axis=0, subset=['Price'])"
   ]
  },
  {
   "cell_type": "markdown",
   "id": "varied-keyboard",
   "metadata": {},
   "source": [
    "Since __YearBuilt__ and __BuildingArea__ has way many null values and out of our threshold of 50%, we __remove__ these two features."
   ]
  },
  {
   "cell_type": "code",
   "execution_count": 13,
   "id": "voluntary-labor",
   "metadata": {},
   "outputs": [],
   "source": [
    "df.drop(columns=['YearBuilt', 'BuildingArea'],inplace=True)"
   ]
  },
  {
   "cell_type": "markdown",
   "id": "alleged-specification",
   "metadata": {},
   "source": [
    "Since __Car__ parking is too tricky to assume or fill. We shall __remove the null values__."
   ]
  },
  {
   "cell_type": "code",
   "execution_count": 14,
   "id": "specified-defeat",
   "metadata": {},
   "outputs": [],
   "source": [
    "df = df.dropna(axis=0, subset=['Car'])"
   ]
  },
  {
   "cell_type": "code",
   "execution_count": 15,
   "id": "unauthorized-slide",
   "metadata": {},
   "outputs": [
    {
     "name": "stdout",
     "output_type": "stream",
     "text": [
      "Landsize : 13.3281\n",
      "Lattitude : 0.1077\n",
      "Longtitude : 0.1077\n"
     ]
    }
   ],
   "source": [
    "nullvalper(df)"
   ]
  },
  {
   "cell_type": "markdown",
   "id": "australian-organic",
   "metadata": {},
   "source": [
    "Remaining null coordinates accounts of 0.1% and can be removed. "
   ]
  },
  {
   "cell_type": "code",
   "execution_count": 16,
   "id": "ambient-eagle",
   "metadata": {},
   "outputs": [],
   "source": [
    "#remove remianing latitude and longitude\n",
    "df = df.dropna(axis=0, subset=['Lattitude','Longtitude'])"
   ]
  },
  {
   "cell_type": "code",
   "execution_count": 17,
   "id": "frequent-benchmark",
   "metadata": {},
   "outputs": [
    {
     "name": "stdout",
     "output_type": "stream",
     "text": [
      "Landsize : 13.3425\n"
     ]
    }
   ],
   "source": [
    "nullvalper(df)"
   ]
  },
  {
   "cell_type": "markdown",
   "id": "geographic-difference",
   "metadata": {},
   "source": [
    "Now we remove the null values in Landsize. One approach would be to __fill the null values with the mean of Landsize with their corresponding number of rooms__, since the column has no null values and is most logical way to approximate Landsize."
   ]
  },
  {
   "cell_type": "code",
   "execution_count": 18,
   "id": "proved-willow",
   "metadata": {},
   "outputs": [],
   "source": [
    "rooms = df['Rooms'].unique()\n",
    "for i in rooms:\n",
    "        size_mean = df[df['Rooms']== i]['Landsize'].mean()\n",
    "        df.loc[(df['Rooms']==i) & (df['Landsize'].isna()),'Landsize'] = size_mean"
   ]
  },
  {
   "cell_type": "code",
   "execution_count": 19,
   "id": "agricultural-portrait",
   "metadata": {},
   "outputs": [
    {
     "name": "stdout",
     "output_type": "stream",
     "text": [
      "Landsize : 0.0049\n"
     ]
    }
   ],
   "source": [
    "nullvalper(df)"
   ]
  },
  {
   "cell_type": "markdown",
   "id": "varying-prisoner",
   "metadata": {},
   "source": [
    "Remaining null Landsize accounts of 0.004%, which we can remove."
   ]
  },
  {
   "cell_type": "code",
   "execution_count": 20,
   "id": "north-stevens",
   "metadata": {},
   "outputs": [],
   "source": [
    "df = df.dropna(axis=0, subset=['Landsize'])"
   ]
  },
  {
   "cell_type": "markdown",
   "id": "equal-schema",
   "metadata": {},
   "source": [
    "We saw few observations with __Bedroom and Bathrooms equal to 0__. We __remove__ those data points."
   ]
  },
  {
   "cell_type": "code",
   "execution_count": 24,
   "id": "medical-afghanistan",
   "metadata": {},
   "outputs": [],
   "source": [
    "df = df[df['Bedroom2']!=0]"
   ]
  },
  {
   "cell_type": "code",
   "execution_count": 25,
   "id": "developed-jimmy",
   "metadata": {},
   "outputs": [],
   "source": [
    "df = df[df['Bathroom']!=0]"
   ]
  },
  {
   "cell_type": "markdown",
   "id": "previous-processing",
   "metadata": {},
   "source": [
    "There are entries for __Car__ parking equal to 0. For safe side we can __assume__ those __1__."
   ]
  },
  {
   "cell_type": "code",
   "execution_count": 26,
   "id": "turkish-flush",
   "metadata": {},
   "outputs": [],
   "source": [
    "df.loc[df['Car']==0,'Car'] = 1"
   ]
  },
  {
   "cell_type": "markdown",
   "id": "subtle-compound",
   "metadata": {},
   "source": [
    "### Remove Outliers"
   ]
  },
  {
   "cell_type": "markdown",
   "id": "focused-spencer",
   "metadata": {},
   "source": [
    "If a value has a distance to the average higher than x * standard deviation, it can be assumed as an outlier. Then the question is what x should be?\n",
    "\n",
    "There is no trivial solution for x, but usually, a value between 2 and 4 seems practical as provided by the statisticians."
   ]
  },
  {
   "cell_type": "code",
   "execution_count": 28,
   "id": "lined-export",
   "metadata": {},
   "outputs": [],
   "source": [
    "def remove_outlier(data):\n",
    "    factor = 7.1\n",
    "    col = data.select_dtypes(include=np.number).columns.tolist()\n",
    "    for column in col:\n",
    "        upper_lim = data[column].mean () + data[column].std () * factor\n",
    "        lower_lim = data[column].mean () - data[column].std () * factor\n",
    "\n",
    "        data = data[(data[column] < upper_lim) & (data[column] > lower_lim)]\n",
    "    return data"
   ]
  },
  {
   "cell_type": "code",
   "execution_count": 29,
   "id": "efficient-marketing",
   "metadata": {},
   "outputs": [],
   "source": [
    "# remove outlier\n",
    "df_new = remove_outlier(df)"
   ]
  },
  {
   "cell_type": "markdown",
   "id": "computational-wales",
   "metadata": {},
   "source": [
    "Now we use the dedscribe method provided by Pandas to check the in-depth statistics of our numerical values."
   ]
  },
  {
   "cell_type": "code",
   "execution_count": 31,
   "id": "sharp-enclosure",
   "metadata": {},
   "outputs": [
    {
     "data": {
      "text/html": [
       "<div>\n",
       "<style scoped>\n",
       "    .dataframe tbody tr th:only-of-type {\n",
       "        vertical-align: middle;\n",
       "    }\n",
       "\n",
       "    .dataframe tbody tr th {\n",
       "        vertical-align: top;\n",
       "    }\n",
       "\n",
       "    .dataframe thead th {\n",
       "        text-align: right;\n",
       "    }\n",
       "</style>\n",
       "<table border=\"1\" class=\"dataframe\">\n",
       "  <thead>\n",
       "    <tr style=\"text-align: right;\">\n",
       "      <th></th>\n",
       "      <th>Rooms</th>\n",
       "      <th>Price</th>\n",
       "      <th>Distance</th>\n",
       "      <th>Postcode</th>\n",
       "      <th>Bedroom2</th>\n",
       "      <th>Bathroom</th>\n",
       "      <th>Car</th>\n",
       "      <th>Landsize</th>\n",
       "      <th>Lattitude</th>\n",
       "      <th>Longtitude</th>\n",
       "      <th>Propertycount</th>\n",
       "    </tr>\n",
       "  </thead>\n",
       "  <tbody>\n",
       "    <tr>\n",
       "      <th>count</th>\n",
       "      <td>20275.000000</td>\n",
       "      <td>2.027500e+04</td>\n",
       "      <td>20275.000000</td>\n",
       "      <td>20275.000000</td>\n",
       "      <td>20275.000000</td>\n",
       "      <td>20275.000000</td>\n",
       "      <td>20275.000000</td>\n",
       "      <td>20275.000000</td>\n",
       "      <td>20275.000000</td>\n",
       "      <td>20275.000000</td>\n",
       "      <td>20275.000000</td>\n",
       "    </tr>\n",
       "    <tr>\n",
       "      <th>mean</th>\n",
       "      <td>3.061356</td>\n",
       "      <td>1.084132e+06</td>\n",
       "      <td>11.402683</td>\n",
       "      <td>3113.123305</td>\n",
       "      <td>3.046313</td>\n",
       "      <td>1.594624</td>\n",
       "      <td>1.770407</td>\n",
       "      <td>536.364356</td>\n",
       "      <td>-37.806444</td>\n",
       "      <td>144.996797</td>\n",
       "      <td>7513.327250</td>\n",
       "    </tr>\n",
       "    <tr>\n",
       "      <th>std</th>\n",
       "      <td>0.935043</td>\n",
       "      <td>6.332001e+05</td>\n",
       "      <td>6.783565</td>\n",
       "      <td>110.347012</td>\n",
       "      <td>0.931074</td>\n",
       "      <td>0.688525</td>\n",
       "      <td>0.887481</td>\n",
       "      <td>708.393652</td>\n",
       "      <td>0.091579</td>\n",
       "      <td>0.120266</td>\n",
       "      <td>4411.016407</td>\n",
       "    </tr>\n",
       "    <tr>\n",
       "      <th>min</th>\n",
       "      <td>1.000000</td>\n",
       "      <td>8.500000e+04</td>\n",
       "      <td>0.000000</td>\n",
       "      <td>3000.000000</td>\n",
       "      <td>1.000000</td>\n",
       "      <td>1.000000</td>\n",
       "      <td>1.000000</td>\n",
       "      <td>0.000000</td>\n",
       "      <td>-38.190430</td>\n",
       "      <td>144.423790</td>\n",
       "      <td>121.000000</td>\n",
       "    </tr>\n",
       "    <tr>\n",
       "      <th>25%</th>\n",
       "      <td>2.000000</td>\n",
       "      <td>6.550000e+05</td>\n",
       "      <td>6.600000</td>\n",
       "      <td>3046.000000</td>\n",
       "      <td>2.000000</td>\n",
       "      <td>1.000000</td>\n",
       "      <td>1.000000</td>\n",
       "      <td>262.000000</td>\n",
       "      <td>-37.861100</td>\n",
       "      <td>144.924540</td>\n",
       "      <td>4380.000000</td>\n",
       "    </tr>\n",
       "    <tr>\n",
       "      <th>50%</th>\n",
       "      <td>3.000000</td>\n",
       "      <td>9.050000e+05</td>\n",
       "      <td>10.500000</td>\n",
       "      <td>3087.000000</td>\n",
       "      <td>3.000000</td>\n",
       "      <td>1.000000</td>\n",
       "      <td>2.000000</td>\n",
       "      <td>545.000000</td>\n",
       "      <td>-37.799370</td>\n",
       "      <td>145.004300</td>\n",
       "      <td>6567.000000</td>\n",
       "    </tr>\n",
       "    <tr>\n",
       "      <th>75%</th>\n",
       "      <td>4.000000</td>\n",
       "      <td>1.330000e+06</td>\n",
       "      <td>14.200000</td>\n",
       "      <td>3152.000000</td>\n",
       "      <td>4.000000</td>\n",
       "      <td>2.000000</td>\n",
       "      <td>2.000000</td>\n",
       "      <td>669.000000</td>\n",
       "      <td>-37.747905</td>\n",
       "      <td>145.069235</td>\n",
       "      <td>10331.000000</td>\n",
       "    </tr>\n",
       "    <tr>\n",
       "      <th>max</th>\n",
       "      <td>8.000000</td>\n",
       "      <td>5.700000e+06</td>\n",
       "      <td>48.100000</td>\n",
       "      <td>3910.000000</td>\n",
       "      <td>9.000000</td>\n",
       "      <td>6.000000</td>\n",
       "      <td>8.000000</td>\n",
       "      <td>21715.000000</td>\n",
       "      <td>-37.397800</td>\n",
       "      <td>145.526350</td>\n",
       "      <td>21650.000000</td>\n",
       "    </tr>\n",
       "  </tbody>\n",
       "</table>\n",
       "</div>"
      ],
      "text/plain": [
       "              Rooms         Price      Distance      Postcode      Bedroom2  \\\n",
       "count  20275.000000  2.027500e+04  20275.000000  20275.000000  20275.000000   \n",
       "mean       3.061356  1.084132e+06     11.402683   3113.123305      3.046313   \n",
       "std        0.935043  6.332001e+05      6.783565    110.347012      0.931074   \n",
       "min        1.000000  8.500000e+04      0.000000   3000.000000      1.000000   \n",
       "25%        2.000000  6.550000e+05      6.600000   3046.000000      2.000000   \n",
       "50%        3.000000  9.050000e+05     10.500000   3087.000000      3.000000   \n",
       "75%        4.000000  1.330000e+06     14.200000   3152.000000      4.000000   \n",
       "max        8.000000  5.700000e+06     48.100000   3910.000000      9.000000   \n",
       "\n",
       "           Bathroom           Car      Landsize     Lattitude    Longtitude  \\\n",
       "count  20275.000000  20275.000000  20275.000000  20275.000000  20275.000000   \n",
       "mean       1.594624      1.770407    536.364356    -37.806444    144.996797   \n",
       "std        0.688525      0.887481    708.393652      0.091579      0.120266   \n",
       "min        1.000000      1.000000      0.000000    -38.190430    144.423790   \n",
       "25%        1.000000      1.000000    262.000000    -37.861100    144.924540   \n",
       "50%        1.000000      2.000000    545.000000    -37.799370    145.004300   \n",
       "75%        2.000000      2.000000    669.000000    -37.747905    145.069235   \n",
       "max        6.000000      8.000000  21715.000000    -37.397800    145.526350   \n",
       "\n",
       "       Propertycount  \n",
       "count   20275.000000  \n",
       "mean     7513.327250  \n",
       "std      4411.016407  \n",
       "min       121.000000  \n",
       "25%      4380.000000  \n",
       "50%      6567.000000  \n",
       "75%     10331.000000  \n",
       "max     21650.000000  "
      ]
     },
     "execution_count": 31,
     "metadata": {},
     "output_type": "execute_result"
    }
   ],
   "source": [
    "df_new.describe()"
   ]
  },
  {
   "cell_type": "code",
   "execution_count": 40,
   "id": "crucial-silence",
   "metadata": {},
   "outputs": [],
   "source": [
    "def check_unique(data):\n",
    "    obj_df = df.select_dtypes(include=['object']).columns.tolist()\n",
    "    for col in obj_df:\n",
    "        print(col,len(data[col].unique()))    "
   ]
  },
  {
   "cell_type": "code",
   "execution_count": 41,
   "id": "racial-experience",
   "metadata": {},
   "outputs": [
    {
     "name": "stdout",
     "output_type": "stream",
     "text": [
      "Suburb 325\n",
      "Address 19913\n",
      "Type 3\n",
      "Method 5\n",
      "SellerG 319\n",
      "Date 78\n",
      "CouncilArea 33\n",
      "Regionname 8\n"
     ]
    }
   ],
   "source": [
    "check_unique(df_new)"
   ]
  },
  {
   "cell_type": "code",
   "execution_count": null,
   "id": "thick-cherry",
   "metadata": {},
   "outputs": [],
   "source": []
  },
  {
   "cell_type": "code",
   "execution_count": null,
   "id": "measured-fifteen",
   "metadata": {},
   "outputs": [],
   "source": []
  },
  {
   "cell_type": "code",
   "execution_count": null,
   "id": "premier-tower",
   "metadata": {},
   "outputs": [],
   "source": [
    "import seaborn as sns"
   ]
  },
  {
   "cell_type": "code",
   "execution_count": null,
   "id": "essential-keeping",
   "metadata": {},
   "outputs": [],
   "source": [
    "sns.set_style(\"darkgrid\") \n",
    "  \n",
    "sns.boxplot(x = 'Bedroom2', y = 'Price', data = df)"
   ]
  },
  {
   "cell_type": "code",
   "execution_count": null,
   "id": "focal-compact",
   "metadata": {},
   "outputs": [],
   "source": []
  },
  {
   "cell_type": "code",
   "execution_count": null,
   "id": "monthly-reaction",
   "metadata": {},
   "outputs": [],
   "source": []
  },
  {
   "cell_type": "code",
   "execution_count": null,
   "id": "former-flood",
   "metadata": {},
   "outputs": [],
   "source": []
  }
 ],
 "metadata": {
  "kernelspec": {
   "display_name": "Python 3",
   "language": "python",
   "name": "python3"
  },
  "language_info": {
   "codemirror_mode": {
    "name": "ipython",
    "version": 3
   },
   "file_extension": ".py",
   "mimetype": "text/x-python",
   "name": "python",
   "nbconvert_exporter": "python",
   "pygments_lexer": "ipython3",
   "version": "3.6.12"
  }
 },
 "nbformat": 4,
 "nbformat_minor": 5
}
