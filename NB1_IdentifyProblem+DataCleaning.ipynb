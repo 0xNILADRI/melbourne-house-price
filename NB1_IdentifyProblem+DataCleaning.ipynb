{
 "cells": [
  {
   "cell_type": "markdown",
   "id": "incoming-satin",
   "metadata": {},
   "source": [
    "# Using Predictive Analysis To Predict Melbourne House Price  \n",
    "\n",
    "By Niladri Ghosh"
   ]
  },
  {
   "cell_type": "markdown",
   "id": "packed-norway",
   "metadata": {},
   "source": [
    "## 1. Identify Problem\n",
    "\n",
    "Real Estate has became one of the main places to put your investment in recent times. With the current instability in the market it has became too risky to invest in stock markets, gold prices constanly going down and goverment not considering crypocurrency as a serious option. That being said, owing a property seems to be a viable option to put your money in. So with this motivation we need to analyze what fectors leads to the price of a property in an area, we'll be predicting house prices in Melbourne, Australia."
   ]
  },
  {
   "cell_type": "markdown",
   "id": "gross-victoria",
   "metadata": {},
   "source": [
    "### 1.1 Expected Outcome\n",
    "\n",
    "Given house price data from Domain.com.au (and other sources) provides various features of a particular property like number of rooms, address, suburb ,etc. Since this is a __regression problem__, our __final output would be the price of the house estimated by our model__."
   ]
  },
  {
   "cell_type": "markdown",
   "id": "concrete-allowance",
   "metadata": {},
   "source": [
    "### 1.2 Objective\n",
    "\n",
    "Since many features in our data is categorical value, we need to find appropriate techniques to convert them into integers, as our model only inputs numerical values and finally predict house prices. In machine learning this is a regression problem.\n",
    "\n",
    "> Thus, the goal is to estimate the price of various houses provided the different unique features of the property. To acheive this we have used machine learning regression methods to fit a function that can predict the continuos values (price) for the new inputs."
   ]
  },
  {
   "cell_type": "markdown",
   "id": "premier-postage",
   "metadata": {},
   "source": [
    "### 1.3 Identify Data Sources\n",
    "\n",
    "The [Melbourne House Price](https://www.kaggle.com/anthonypino/melbourne-housing-market?select=Melbourne_housing_FULL.csv) dataset is available at Kaggle by [Tony Pino](https://www.kaggle.com/anthonypino). The dataset contains 34,857 rows of data and 21 columns (20 features and 1 taget).\n",
    "\n",
    "* The 5th column provides the price of the house.\n",
    "* Columns 1-4 and 6-21 provides various details for the given house."
   ]
  },
  {
   "cell_type": "markdown",
   "id": "colonial-observation",
   "metadata": {},
   "source": [
    "__Getting Started : Load libraries and set options__"
   ]
  },
  {
   "cell_type": "code",
   "execution_count": 1,
   "id": "meaningful-berlin",
   "metadata": {},
   "outputs": [],
   "source": [
    "# load libraries\n",
    "import numpy as np\n",
    "import pandas as pd"
   ]
  },
  {
   "cell_type": "markdown",
   "id": "threatened-anxiety",
   "metadata": {},
   "source": [
    "__Load Dataset__\n",
    "\n",
    "First load the supplied CSV file using Pandas read_csv function."
   ]
  },
  {
   "cell_type": "code",
   "execution_count": 2,
   "id": "lyric-colonial",
   "metadata": {},
   "outputs": [],
   "source": [
    "# read data\n",
    "df = pd.read_csv('data/data_full.csv')"
   ]
  },
  {
   "cell_type": "markdown",
   "id": "lesbian-calendar",
   "metadata": {},
   "source": [
    "__Inspecting the data__\n",
    "\n",
    "The first step is to visually inspect the new dataset. There are multiple ways to acheive this:\n",
    "* The easiest way is to fetch first 5 rows is using DataFrame.head(), here df.head().\n",
    "* Alternatively we can fetch the last 5 rows using DataFrame.tail(), here df.tail().\n",
    "\n",
    "__NOTE:__ \n",
    "\n",
    "For both the above methods we can add a parameter inside the parenthesis '()' to specify how many rows we want to display, thus we can inspect the data."
   ]
  },
  {
   "cell_type": "code",
   "execution_count": 3,
   "id": "hybrid-panel",
   "metadata": {},
   "outputs": [
    {
     "data": {
      "text/plain": [
       "(34857, 21)"
      ]
     },
     "execution_count": 3,
     "metadata": {},
     "output_type": "execute_result"
    }
   ],
   "source": [
    "# check shape of the given data\n",
    "df.shape"
   ]
  },
  {
   "cell_type": "markdown",
   "id": "planned-armenia",
   "metadata": {},
   "source": [
    "We can observe here the number of rows and columns on the dataset."
   ]
  },
  {
   "cell_type": "code",
   "execution_count": null,
   "id": "regulation-identification",
   "metadata": {},
   "outputs": [],
   "source": []
  },
  {
   "cell_type": "code",
   "execution_count": null,
   "id": "irish-shopper",
   "metadata": {},
   "outputs": [],
   "source": []
  },
  {
   "cell_type": "code",
   "execution_count": null,
   "id": "employed-medline",
   "metadata": {},
   "outputs": [],
   "source": []
  },
  {
   "cell_type": "code",
   "execution_count": null,
   "id": "critical-triangle",
   "metadata": {},
   "outputs": [],
   "source": []
  },
  {
   "cell_type": "code",
   "execution_count": null,
   "id": "bigger-color",
   "metadata": {},
   "outputs": [],
   "source": []
  },
  {
   "cell_type": "code",
   "execution_count": null,
   "id": "cultural-acrobat",
   "metadata": {},
   "outputs": [],
   "source": []
  },
  {
   "cell_type": "code",
   "execution_count": null,
   "id": "italic-scanning",
   "metadata": {},
   "outputs": [],
   "source": []
  },
  {
   "cell_type": "code",
   "execution_count": null,
   "id": "portuguese-dairy",
   "metadata": {},
   "outputs": [],
   "source": []
  },
  {
   "cell_type": "code",
   "execution_count": null,
   "id": "understanding-portsmouth",
   "metadata": {},
   "outputs": [],
   "source": []
  },
  {
   "cell_type": "code",
   "execution_count": null,
   "id": "dedicated-isaac",
   "metadata": {},
   "outputs": [],
   "source": []
  },
  {
   "cell_type": "code",
   "execution_count": null,
   "id": "specific-treasure",
   "metadata": {},
   "outputs": [],
   "source": []
  },
  {
   "cell_type": "code",
   "execution_count": null,
   "id": "challenging-darkness",
   "metadata": {},
   "outputs": [],
   "source": []
  },
  {
   "cell_type": "code",
   "execution_count": null,
   "id": "written-burden",
   "metadata": {},
   "outputs": [],
   "source": []
  },
  {
   "cell_type": "code",
   "execution_count": null,
   "id": "reflected-infrastructure",
   "metadata": {},
   "outputs": [],
   "source": []
  },
  {
   "cell_type": "code",
   "execution_count": null,
   "id": "noticed-health",
   "metadata": {},
   "outputs": [],
   "source": []
  },
  {
   "cell_type": "code",
   "execution_count": null,
   "id": "detailed-receipt",
   "metadata": {},
   "outputs": [],
   "source": []
  },
  {
   "cell_type": "code",
   "execution_count": null,
   "id": "proved-willow",
   "metadata": {},
   "outputs": [],
   "source": []
  },
  {
   "cell_type": "code",
   "execution_count": null,
   "id": "agricultural-portrait",
   "metadata": {},
   "outputs": [],
   "source": []
  }
 ],
 "metadata": {
  "kernelspec": {
   "display_name": "Python 3",
   "language": "python",
   "name": "python3"
  },
  "language_info": {
   "codemirror_mode": {
    "name": "ipython",
    "version": 3
   },
   "file_extension": ".py",
   "mimetype": "text/x-python",
   "name": "python",
   "nbconvert_exporter": "python",
   "pygments_lexer": "ipython3",
   "version": "3.6.12"
  }
 },
 "nbformat": 4,
 "nbformat_minor": 5
}
