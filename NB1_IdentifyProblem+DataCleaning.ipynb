{
 "cells": [
  {
   "cell_type": "markdown",
   "id": "incoming-satin",
   "metadata": {},
   "source": [
    "# Using Predictive Analysis To Predict Melbourne House Price  \n",
    "\n",
    "By Niladri Ghosh\n",
    "\n",
    "## 1. Identify Problem\n",
    "\n",
    "Real Estate has became one of the main places to put your investment in recent times. With the current instability in the market it has became too risky to invest in stock markets, gold prices constanly going down and goverment not considering crypocurrency as a serious option. That being said, owing a property seems to be a viable option to put your money in. So with this motivation we need to analyze what fectors leads to the price of a property in an area, we'll be predicting house prices in Melbourne, Australia.\n",
    "\n",
    "### 1.1 Expected Outcome\n",
    "\n",
    "Given house price data from Domain.com.au (and other sources) provides various features of a particular property like number of rooms, address, suburb ,etc. Since this is a __regression problem__, our __final output would be the price of the house estimated by our model__.\n",
    "\n",
    "### 1.2 Objective\n",
    "\n",
    "Since many features in our data is categorical value, we need to find appropriate techniques to convert them into integers, as our model only inputs numerical values and finally predict house prices. In machine learning this is a regression problem.\n",
    "\n",
    "> Thus, the goal is to estimate the price of various houses provided the different unique features of the property. To acheive this we have used machine learning regression methods to fit a function that can predict the continuos values (price) for the new inputs.\n",
    "\n",
    "### 1.3 Identify Data Sources\n",
    "\n",
    "The [Melbourne House Price](https://www.kaggle.com/anthonypino/melbourne-housing-market?select=Melbourne_housing_FULL.csv) dataset is available at Kaggle by [Tony Pino](https://www.kaggle.com/anthonypino). The dataset contains 34,857 rows of data and 21 columns (20 features and 1 taget).\n",
    "\n",
    "* The 5th column provides the price of the house.\n",
    "* Columns 1-4 and 6-21 provides various details for the given house."
   ]
  },
  {
   "cell_type": "markdown",
   "id": "colonial-observation",
   "metadata": {},
   "source": [
    "__Getting Started : Load libraries and set options__"
   ]
  },
  {
   "cell_type": "code",
   "execution_count": 1,
   "id": "meaningful-berlin",
   "metadata": {},
   "outputs": [],
   "source": [
    "# load libraries\n",
    "import numpy as np\n",
    "import pandas as pd\n",
    "import seaborn as sns\n",
    "import warnings\n",
    "\n",
    "# ignore warnings\n",
    "warnings.simplefilter(action='ignore', category=FutureWarning)\n",
    "\n",
    "# display all columns\n",
    "pd.set_option('display.max_columns', None)"
   ]
  },
  {
   "cell_type": "markdown",
   "id": "threatened-anxiety",
   "metadata": {},
   "source": [
    "__Load Dataset__\n",
    "\n",
    "First load the supplied CSV file using Pandas read_csv function."
   ]
  },
  {
   "cell_type": "code",
   "execution_count": 2,
   "id": "lyric-colonial",
   "metadata": {},
   "outputs": [],
   "source": [
    "# read data\n",
    "df = pd.read_csv('data/data_full.csv')"
   ]
  },
  {
   "cell_type": "markdown",
   "id": "lesbian-calendar",
   "metadata": {},
   "source": [
    "__Inspecting the data__\n",
    "\n",
    "The first step is to visually inspect the new dataset. There are multiple ways to acheive this:\n",
    "* The easiest way is to fetch first 5 rows is using DataFrame.head(), here df.head().\n",
    "* Alternatively we can fetch the last 5 rows using DataFrame.tail(), here df.tail().\n",
    "\n",
    "__NOTE:__ \n",
    "\n",
    "For both the above methods we can add a parameter inside the parenthesis '()' to specify how many rows we want to display, thus we can inspect the data."
   ]
  },
  {
   "cell_type": "code",
   "execution_count": null,
   "id": "shared-leader",
   "metadata": {},
   "outputs": [],
   "source": [
    "df.head(10)"
   ]
  },
  {
   "cell_type": "code",
   "execution_count": 4,
   "id": "hybrid-panel",
   "metadata": {},
   "outputs": [
    {
     "data": {
      "text/plain": [
       "(34857, 21)"
      ]
     },
     "execution_count": 4,
     "metadata": {},
     "output_type": "execute_result"
    }
   ],
   "source": [
    "# check shape of the given data\n",
    "df.shape"
   ]
  },
  {
   "cell_type": "markdown",
   "id": "planned-armenia",
   "metadata": {},
   "source": [
    "We can observe here the number of 34,857 rows, each with 21 columns.\n",
    "\n",
    "On contrary we can use use info() method provided by pandas to generate a consise summary of the data. It provides the detail about each column, number of rows, null values, the data type and the memory usage."
   ]
  },
  {
   "cell_type": "code",
   "execution_count": null,
   "id": "irish-shopper",
   "metadata": {},
   "outputs": [],
   "source": [
    "df.info()"
   ]
  },
  {
   "cell_type": "markdown",
   "id": "nuclear-ecology",
   "metadata": {},
   "source": [
    "There are some wrong data types. The postcode columns is float, it's a categorical value. And the following columns :\n",
    "\n",
    "* Date column needs to be set as datetime.\n",
    "* Bathroom, Car and Yearbuilt to be set as integer.\n",
    "* Postcode and Propertycount to be set as categorical."
   ]
  },
  {
   "cell_type": "markdown",
   "id": "metallic-meaning",
   "metadata": {},
   "source": [
    "Change Postcode and Propertycount as categorical"
   ]
  },
  {
   "cell_type": "code",
   "execution_count": 6,
   "id": "optional-transaction",
   "metadata": {},
   "outputs": [],
   "source": [
    "#change Postcode\n",
    "df['Postcode']= df['Postcode'].astype('object')\n",
    "\n",
    "#change Propertycount\n",
    "df['Propertycount']= df['Propertycount'].astype('object')"
   ]
  },
  {
   "cell_type": "markdown",
   "id": "apart-amplifier",
   "metadata": {},
   "source": [
    "Now we analyse Bedroom2 column. "
   ]
  },
  {
   "cell_type": "code",
   "execution_count": 7,
   "id": "accepted-teach",
   "metadata": {},
   "outputs": [
    {
     "data": {
      "image/png": "[encoded data removed]",
      "text/plain": [
       "<Figure size 360x360 with 1 Axes>"
      ]
     },
     "metadata": {
      "needs_background": "light"
     },
     "output_type": "display_data"
    }
   ],
   "source": [
    "sns.lmplot(data= df, x='Bedroom2', y='Rooms');"
   ]
  },
  {
   "cell_type": "markdown",
   "id": "clean-findings",
   "metadata": {},
   "source": [
    "We __remove__ the column __Bedroom2__, mainly for two reasons:\n",
    "\n",
    "* The column has been scraped for number of Bedrooms, from a different source which is not reliable.\n",
    "* From the above plot we can clearly see that there is a linear relation, which mean they are almost same."
   ]
  },
  {
   "cell_type": "code",
   "execution_count": 8,
   "id": "agricultural-michael",
   "metadata": {},
   "outputs": [],
   "source": [
    "df.drop(columns=['Bedroom2'],inplace=True)"
   ]
  },
  {
   "cell_type": "markdown",
   "id": "eleven-myanmar",
   "metadata": {},
   "source": [
    "Now we use the describe method provided by Pandas to check the in-depth statistics of our numerical values.\n"
   ]
  },
  {
   "cell_type": "code",
   "execution_count": null,
   "id": "prime-demand",
   "metadata": {},
   "outputs": [],
   "source": [
    "df.describe()"
   ]
  },
  {
   "cell_type": "markdown",
   "id": "blessed-palace",
   "metadata": {},
   "source": [
    "We encounter some strange values from above result, so  we carefully analyse these values:\n",
    "\n",
    "* Bathroom contains values 0 and 12. Logically number of bathrooms would be between 1 and 7.\n",
    "* BuildingArea contains 0 and miximum area of 44515 square meters which is next to impossible. \n",
    "* YearBuilt have values more than 2018, sice time of scrape is 2018 and needs to be rectified."
   ]
  },
  {
   "cell_type": "code",
   "execution_count": null,
   "id": "international-nutrition",
   "metadata": {},
   "outputs": [],
   "source": [
    "# check number of bathrooms\n",
    "df['Bathroom'].value_counts()"
   ]
  },
  {
   "cell_type": "markdown",
   "id": "decent-barcelona",
   "metadata": {},
   "source": [
    "There are 46 houses that do not have bathroom! One possible idea, they should be old houses with a common bathroom outside, so we will consider these as accurate values. On the other hand there is a property with 12 bathrooms, which is least likely. \n",
    "\n",
    "We analyse houses with more than 7 bathrooms."
   ]
  },
  {
   "cell_type": "code",
   "execution_count": null,
   "id": "confidential-elimination",
   "metadata": {},
   "outputs": [],
   "source": [
    "# check bathroom\n",
    "df.loc[df['Bathroom']>7]"
   ]
  },
  {
   "cell_type": "markdown",
   "id": "accessible-overview",
   "metadata": {},
   "source": [
    "We analyse houses with less than 1 BuildingArea."
   ]
  },
  {
   "cell_type": "code",
   "execution_count": null,
   "id": "trying-pilot",
   "metadata": {},
   "outputs": [],
   "source": [
    "# check buildingarea\n",
    "df[df['BuildingArea']<1].head()"
   ]
  },
  {
   "cell_type": "code",
   "execution_count": 13,
   "id": "documented-evidence",
   "metadata": {},
   "outputs": [
    {
     "data": {
      "text/plain": [
       "77"
      ]
     },
     "execution_count": 13,
     "metadata": {},
     "output_type": "execute_result"
    }
   ],
   "source": [
    "#count number of houses with less than 1 Building area\n",
    "len(df[df['BuildingArea']<1])"
   ]
  },
  {
   "cell_type": "markdown",
   "id": "sealed-disclaimer",
   "metadata": {},
   "source": [
    "In simple words these are 77 points are the results of data entry mistakes. We drop these rows."
   ]
  },
  {
   "cell_type": "code",
   "execution_count": 14,
   "id": "lined-component",
   "metadata": {},
   "outputs": [],
   "source": [
    "# drop rows for umber of houses with less than 1 Building area (uninary operator for removing data) \n",
    "df = df[~(df['BuildingArea'] < 1)]  "
   ]
  },
  {
   "cell_type": "markdown",
   "id": "representative-leone",
   "metadata": {},
   "source": [
    "Since there are missing values in the data we reset the index for dataframe."
   ]
  },
  {
   "cell_type": "code",
   "execution_count": 15,
   "id": "unique-negotiation",
   "metadata": {},
   "outputs": [],
   "source": [
    "df = df.reset_index()"
   ]
  },
  {
   "cell_type": "markdown",
   "id": "narrative-exhibition",
   "metadata": {},
   "source": [
    "Since BuildingArea coulumn has a maximum value of 4, clearly a wrong entry. Analze with Boxplot for outliers."
   ]
  },
  {
   "cell_type": "code",
   "execution_count": 16,
   "id": "responsible-president",
   "metadata": {},
   "outputs": [
    {
     "data": {
      "image/png": "[encoded data removed]",
      "text/plain": [
       "<Figure size 432x288 with 1 Axes>"
      ]
     },
     "metadata": {
      "needs_background": "light"
     },
     "output_type": "display_data"
    }
   ],
   "source": [
    "sns.boxplot(data= df,y='BuildingArea');"
   ]
  },
  {
   "cell_type": "markdown",
   "id": "regulation-driving",
   "metadata": {},
   "source": [
    "Absolutely right ,assumption was right. Further we analyse the row and rectify the data point."
   ]
  },
  {
   "cell_type": "code",
   "execution_count": null,
   "id": "lonely-coverage",
   "metadata": {},
   "outputs": [],
   "source": [
    "# view the row\n",
    "df[df['BuildingArea']>40000]"
   ]
  },
  {
   "cell_type": "markdown",
   "id": "banned-kinase",
   "metadata": {},
   "source": [
    "The value is clearly absurd and should be 455, the data entry person must have moved two decimal points further!"
   ]
  },
  {
   "cell_type": "code",
   "execution_count": 18,
   "id": "realistic-delta",
   "metadata": {},
   "outputs": [],
   "source": [
    "# replace 44500.0 with 445\n",
    "df['BuildingArea'].replace(44515.0, 445.15, inplace=True)"
   ]
  },
  {
   "cell_type": "markdown",
   "id": "naval-creator",
   "metadata": {},
   "source": [
    "Check for duplicate values using pandas dataframe duplicated method. "
   ]
  },
  {
   "cell_type": "code",
   "execution_count": 19,
   "id": "printable-notification",
   "metadata": {},
   "outputs": [
    {
     "data": {
      "text/plain": [
       "False"
      ]
     },
     "execution_count": 19,
     "metadata": {},
     "output_type": "execute_result"
    }
   ],
   "source": [
    "# check total duplicated values\n",
    "df.duplicated().any()"
   ]
  },
  {
   "cell_type": "markdown",
   "id": "ignored-phase",
   "metadata": {},
   "source": [
    "We have no duplicate data."
   ]
  },
  {
   "cell_type": "markdown",
   "id": "chinese-bikini",
   "metadata": {},
   "source": [
    "The pandas method __dtypes.value_counts()__ provides the number of columns of each type in the dataframe."
   ]
  },
  {
   "cell_type": "code",
   "execution_count": 20,
   "id": "employed-medline",
   "metadata": {},
   "outputs": [
    {
     "data": {
      "text/plain": [
       "object     10\n",
       "float64     9\n",
       "int64       2\n",
       "dtype: int64"
      ]
     },
     "execution_count": 20,
     "metadata": {},
     "output_type": "execute_result"
    }
   ],
   "source": [
    "df.dtypes.value_counts()"
   ]
  },
  {
   "cell_type": "markdown",
   "id": "supposed-glory",
   "metadata": {},
   "source": [
    "From the above results, out of 20 columns 9 are float values, 8 are object (character values) and 1 is integer value, one integer column is index."
   ]
  },
  {
   "cell_type": "markdown",
   "id": "billion-halifax",
   "metadata": {},
   "source": [
    "__Check for null values__\n",
    "\n",
    "We need to assess how many null values are present in each column in order to fix the issue. If the values are low we can straight away remove them, if not we can fill them by various measures of centrality (mean, mediam, mode) or by any othe means. But first of all we need to carefully analyze it."
   ]
  },
  {
   "cell_type": "code",
   "execution_count": 21,
   "id": "provincial-pierre",
   "metadata": {},
   "outputs": [],
   "source": [
    "def nullvalper(dataframe):\n",
    "    res = {'col':[],'val':[]}\n",
    "    for column in dataframe.columns:\n",
    "        if dataframe[column].isnull().any() == True:\n",
    "            print(\"{:<15} : {:<6}items, accounts {:.4f}%\".format(\n",
    "                column,dataframe[column].isnull().sum(),dataframe[column].isnull().sum()\n",
    "                /len(dataframe[column])*100))"
   ]
  },
  {
   "cell_type": "code",
   "execution_count": 22,
   "id": "selective-veteran",
   "metadata": {},
   "outputs": [
    {
     "data": {
      "text/plain": [
       "7594"
      ]
     },
     "execution_count": 22,
     "metadata": {},
     "output_type": "execute_result"
    }
   ],
   "source": [
    "df['Price'].isnull().sum()"
   ]
  },
  {
   "cell_type": "code",
   "execution_count": 23,
   "id": "constant-academy",
   "metadata": {},
   "outputs": [
    {
     "data": {
      "text/plain": [
       "34780"
      ]
     },
     "execution_count": 23,
     "metadata": {},
     "output_type": "execute_result"
    }
   ],
   "source": [
    "len(df['Price'])"
   ]
  },
  {
   "cell_type": "code",
   "execution_count": null,
   "id": "portuguese-dairy",
   "metadata": {},
   "outputs": [],
   "source": [
    "# check null percentage\n",
    "nullvalper(df)"
   ]
  },
  {
   "cell_type": "markdown",
   "id": "effective-warrant",
   "metadata": {},
   "source": [
    "The most suitable way to __fill__ in the __null values__ for __Price, Landsize, Distance, BuildingArea, Lattitude, Longtitude and YearBuilt__ with __median__."
   ]
  },
  {
   "cell_type": "code",
   "execution_count": 25,
   "id": "worldwide-distance",
   "metadata": {},
   "outputs": [],
   "source": [
    "df['Price']= df['Price'].fillna(df['Price'].median())\n",
    "df['Landsize']= df['Landsize'].fillna(df['Landsize'].median())\n",
    "df['Distance'] = df['Distance'].fillna(df['Distance'].median())\n",
    "df['BuildingArea']= df['BuildingArea'].fillna(df['BuildingArea'].median())\n",
    "df['Lattitude']= df['Lattitude'].fillna(df['Lattitude'].median())\n",
    "df['Longtitude']= df['Longtitude'].fillna(df['Longtitude'].median())\n",
    "df['YearBuilt']= df['YearBuilt'].fillna(df['YearBuilt'].median())"
   ]
  },
  {
   "cell_type": "code",
   "execution_count": null,
   "id": "cognitive-symbol",
   "metadata": {},
   "outputs": [],
   "source": [
    "# check null values\n",
    "nullvalper(df)"
   ]
  },
  {
   "cell_type": "markdown",
   "id": "musical-treat",
   "metadata": {},
   "source": [
    "And for __categorical values__ such as __Postcode, Bathroom, Car, CouncilArea, Regionname and Propertycount__ we use __mode__ to __fill__ in the __null values__."
   ]
  },
  {
   "cell_type": "code",
   "execution_count": 27,
   "id": "unnecessary-estimate",
   "metadata": {},
   "outputs": [],
   "source": [
    "df['Bathroom']= df['Bathroom'].fillna(df['Bathroom'].mode()[0])\n",
    "df['Car']= df['Car'].fillna(df['Car'].mode()[0])\n",
    "df['CouncilArea']= df['CouncilArea'].fillna(df['CouncilArea'].mode()[0])\n",
    "df['Regionname']= df['Regionname'].fillna(df['Regionname'].mode()[0])\n",
    "df['Propertycount']= df['Propertycount'].fillna(df['Propertycount'].mode()[0])\n",
    "df['Postcode']= df['Postcode'].fillna(df['Postcode'].mode()[0])"
   ]
  },
  {
   "cell_type": "code",
   "execution_count": 28,
   "id": "exempt-transmission",
   "metadata": {},
   "outputs": [],
   "source": [
    "# check null values\n",
    "nullvalper(df)"
   ]
  },
  {
   "cell_type": "markdown",
   "id": "hired-mechanics",
   "metadata": {},
   "source": [
    "No more null values. We can finally change Data type of Bathroom and Car to Integer."
   ]
  },
  {
   "cell_type": "code",
   "execution_count": 29,
   "id": "informal-second",
   "metadata": {},
   "outputs": [],
   "source": [
    "df['Car'] = pd.to_numeric(df['Car']).round(0).astype(int)\n",
    "df['Bathroom'] = pd.to_numeric(df['Bathroom']).round(0).astype(int)"
   ]
  },
  {
   "cell_type": "markdown",
   "id": "bibliographic-decline",
   "metadata": {},
   "source": [
    "Save the cleaner version of dataframe for future analysis. "
   ]
  },
  {
   "cell_type": "code",
   "execution_count": 30,
   "id": "defensive-joseph",
   "metadata": {},
   "outputs": [],
   "source": [
    "# save data\n",
    "df.drop(columns=['index'],inplace=True)\n",
    "df.to_csv('data/data_v1.csv',index=False)"
   ]
  },
  {
   "cell_type": "markdown",
   "id": "false-treasury",
   "metadata": {},
   "source": [
    "> Next notebook involves removal of outliers and taking closer look at attributes. In notebook title : NB2_FeatureEngineering."
   ]
  }
 ],
 "metadata": {
  "kernelspec": {
   "display_name": "Python 3",
   "language": "python",
   "name": "python3"
  },
  "language_info": {
   "codemirror_mode": {
    "name": "ipython",
    "version": 3
   },
   "file_extension": ".py",
   "mimetype": "text/x-python",
   "name": "python",
   "nbconvert_exporter": "python",
   "pygments_lexer": "ipython3",
   "version": "3.6.12"
  }
 },
 "nbformat": 4,
 "nbformat_minor": 5
}
