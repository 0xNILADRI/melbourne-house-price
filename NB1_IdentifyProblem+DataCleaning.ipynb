{
 "cells": [
  {
   "cell_type": "markdown",
   "id": "incoming-satin",
   "metadata": {},
   "source": [
    "# Using Predictive Analysis To Predict Melbourne House Price  \n",
    "\n",
    "By Niladri Ghosh\n",
    "\n",
    "## 1. Identify Problem\n",
    "\n",
    "Real Estate has became one of the main places to put your investment in recent times. With the current instability in the market it has became too risky to invest in stock markets, gold prices constanly going down and goverment not considering crypocurrency as a serious option. That being said, owing a property seems to be a viable option to put your money in. So with this motivation we need to analyze what fectors leads to the price of a property in an area, we'll be predicting house prices in Melbourne, Australia.\n",
    "\n",
    "### 1.1 Expected Outcome\n",
    "\n",
    "Given house price data from Domain.com.au (and other sources) provides various features of a particular property like number of rooms, address, suburb ,etc. Since this is a __regression problem__, our __final output would be the price of the house estimated by our model__.\n",
    "\n",
    "### 1.2 Objective\n",
    "\n",
    "Since many features in our data is categorical value, we need to find appropriate techniques to convert them into integers, as our model only inputs numerical values and finally predict house prices. In machine learning this is a regression problem.\n",
    "\n",
    "> Thus, the goal is to estimate the price of various houses provided the different unique features of the property. To acheive this we have used machine learning regression methods to fit a function that can predict the continuos values (price) for the new inputs.\n",
    "\n",
    "### 1.3 Identify Data Sources\n",
    "\n",
    "The [Melbourne House Price](https://www.kaggle.com/anthonypino/melbourne-housing-market?select=Melbourne_housing_FULL.csv) dataset is available at Kaggle by [Tony Pino](https://www.kaggle.com/anthonypino). The dataset contains 34,857 rows of data and 21 columns (20 features and 1 taget).\n",
    "\n",
    "* The 5th column provides the price of the house.\n",
    "* Columns 1-4 and 6-21 provides various details for the given house."
   ]
  },
  {
   "cell_type": "markdown",
   "id": "colonial-observation",
   "metadata": {},
   "source": [
    "__Getting Started : Load libraries and set options__"
   ]
  },
  {
   "cell_type": "code",
   "execution_count": 1,
   "id": "meaningful-berlin",
   "metadata": {},
   "outputs": [],
   "source": [
    "# load libraries\n",
    "import numpy as np\n",
    "import pandas as pd\n",
    "import seaborn as sns\n",
    "import warnings\n",
    "\n",
    "# ignore warnings\n",
    "warnings.simplefilter(action='ignore', category=FutureWarning)\n",
    "\n",
    "# display all columns\n",
    "pd.set_option('display.max_columns', None)"
   ]
  },
  {
   "cell_type": "markdown",
   "id": "threatened-anxiety",
   "metadata": {},
   "source": [
    "__Load Dataset__\n",
    "\n",
    "First load the supplied CSV file using Pandas read_csv function."
   ]
  },
  {
   "cell_type": "code",
   "execution_count": 2,
   "id": "lyric-colonial",
   "metadata": {},
   "outputs": [],
   "source": [
    "# read data\n",
    "df_primary = pd.read_csv('data/data_full.csv')"
   ]
  },
  {
   "cell_type": "code",
   "execution_count": 3,
   "id": "naval-metadata",
   "metadata": {},
   "outputs": [],
   "source": [
    "# create copy of dataframe\n",
    "df = df_primary.copy()"
   ]
  },
  {
   "cell_type": "markdown",
   "id": "lesbian-calendar",
   "metadata": {},
   "source": [
    "__Inspecting the data__\n",
    "\n",
    "The first step is to visually inspect the new dataset. There are multiple ways to acheive this:\n",
    "* The easiest way is to fetch first 5 rows is using DataFrame.head(), here df.head().\n",
    "* Alternatively we can fetch the last 5 rows using DataFrame.tail(), here df.tail().\n",
    "\n",
    "__NOTE:__ \n",
    "\n",
    "For both the above methods we can add a parameter inside the parenthesis '()' to specify how many rows we want to display, thus we can inspect the data."
   ]
  },
  {
   "cell_type": "code",
   "execution_count": null,
   "id": "shared-leader",
   "metadata": {},
   "outputs": [],
   "source": [
    "df.head(10)"
   ]
  },
  {
   "cell_type": "code",
   "execution_count": 5,
   "id": "hybrid-panel",
   "metadata": {},
   "outputs": [
    {
     "data": {
      "text/plain": [
       "(34857, 21)"
      ]
     },
     "execution_count": 5,
     "metadata": {},
     "output_type": "execute_result"
    }
   ],
   "source": [
    "# check shape of the given data\n",
    "df.shape"
   ]
  },
  {
   "cell_type": "markdown",
   "id": "planned-armenia",
   "metadata": {},
   "source": [
    "We can observe here the number of 34,857 rows, each with 21 columns.\n",
    "\n",
    "On contrary we can use use info() method provided by pandas to generate a consise summary of the data. It provides the detail about each column, number of rows, null values, the data type and the memory usage."
   ]
  },
  {
   "cell_type": "code",
   "execution_count": null,
   "id": "irish-shopper",
   "metadata": {},
   "outputs": [],
   "source": [
    "df.info()"
   ]
  },
  {
   "cell_type": "markdown",
   "id": "nuclear-ecology",
   "metadata": {},
   "source": [
    "There are some wrong data types. The postcode columns is float, it's a categorical value. And the following columns :\n",
    "\n",
    "* Date column needs to be set as datetime.\n",
    "* Bathroom, Car and Yearbuilt to be set as integer.\n",
    "* Postcode and Propertycount to be set as categorical."
   ]
  },
  {
   "cell_type": "markdown",
   "id": "metallic-meaning",
   "metadata": {},
   "source": [
    "Change Postcode and Propertycount as categorical"
   ]
  },
  {
   "cell_type": "code",
   "execution_count": 7,
   "id": "optional-transaction",
   "metadata": {},
   "outputs": [],
   "source": [
    "#change Postcode\n",
    "df['Postcode']= df['Postcode'].astype('object')\n",
    "\n",
    "#change Propertycount\n",
    "df['Propertycount']= df['Propertycount'].astype('object')"
   ]
  },
  {
   "cell_type": "markdown",
   "id": "apart-amplifier",
   "metadata": {},
   "source": [
    "Now we analyse Bedroom2 column. "
   ]
  },
  {
   "cell_type": "code",
   "execution_count": 8,
   "id": "accepted-teach",
   "metadata": {},
   "outputs": [
    {
     "data": {
      "image/png": "[encoded data removed]",
      "text/plain": [
       "<Figure size 360x360 with 1 Axes>"
      ]
     },
     "metadata": {
      "needs_background": "light"
     },
     "output_type": "display_data"
    }
   ],
   "source": [
    "sns.lmplot(data= df, x='Bedroom2', y='Rooms');"
   ]
  },
  {
   "cell_type": "markdown",
   "id": "clean-findings",
   "metadata": {},
   "source": [
    "We __remove__ the column __Bedroom2__, mainly for two reasons:\n",
    "\n",
    "* The column has been scraped for number of Bedrooms, from a different source which is not reliable.\n",
    "* From the above plot we can clearly see that there is a linear relation, which mean they are almost same."
   ]
  },
  {
   "cell_type": "code",
   "execution_count": 9,
   "id": "agricultural-michael",
   "metadata": {},
   "outputs": [],
   "source": [
    "df.drop(columns=['Bedroom2'],inplace=True)"
   ]
  },
  {
   "cell_type": "markdown",
   "id": "eleven-myanmar",
   "metadata": {},
   "source": [
    "Now we use the describe method provided by Pandas to check the in-depth statistics of our numerical values.\n"
   ]
  },
  {
   "cell_type": "code",
   "execution_count": null,
   "id": "prime-demand",
   "metadata": {},
   "outputs": [],
   "source": [
    "df.describe()"
   ]
  },
  {
   "cell_type": "markdown",
   "id": "blessed-palace",
   "metadata": {},
   "source": [
    "We encounter some strange values from above result, so  we carefully analyse these values:\n",
    "\n",
    "* Bathroom contains values 0 and 12. Logically number of bathrooms would be between 1 and 7.\n",
    "* BuildingArea contains 0 and miximum area of 44515 square meters which is next to impossible. \n",
    "* YearBuilt have values more than 2018, sice time of scrape is 2018 and needs to be rectified."
   ]
  },
  {
   "cell_type": "code",
   "execution_count": null,
   "id": "international-nutrition",
   "metadata": {},
   "outputs": [],
   "source": [
    "# check number of bathrooms\n",
    "df['Bathroom'].value_counts()"
   ]
  },
  {
   "cell_type": "markdown",
   "id": "decent-barcelona",
   "metadata": {},
   "source": [
    "There are 46 houses that do not have bathroom! One possible idea, they should be old houses with a common bathroom outside, so we will consider these as accurate values. On the other hand there is a property with 12 bathrooms, which is least likely. \n",
    "\n",
    "We analyse houses with more than 7 bathrooms."
   ]
  },
  {
   "cell_type": "code",
   "execution_count": null,
   "id": "confidential-elimination",
   "metadata": {},
   "outputs": [],
   "source": [
    "# check bathroom\n",
    "df.loc[df['Bathroom']>7]"
   ]
  },
  {
   "cell_type": "markdown",
   "id": "accessible-overview",
   "metadata": {},
   "source": [
    "We analyse houses with less than 1 BuildingArea."
   ]
  },
  {
   "cell_type": "code",
   "execution_count": null,
   "id": "trying-pilot",
   "metadata": {},
   "outputs": [],
   "source": [
    "# check buildingarea\n",
    "df[df['BuildingArea']<1].head()"
   ]
  },
  {
   "cell_type": "code",
   "execution_count": 14,
   "id": "documented-evidence",
   "metadata": {},
   "outputs": [
    {
     "data": {
      "text/plain": [
       "77"
      ]
     },
     "execution_count": 14,
     "metadata": {},
     "output_type": "execute_result"
    }
   ],
   "source": [
    "#count number of houses with less than 1 Building area\n",
    "len(df[df['BuildingArea']<1])"
   ]
  },
  {
   "cell_type": "markdown",
   "id": "sealed-disclaimer",
   "metadata": {},
   "source": [
    "In simple words these are 77 points are the results of data entry mistakes. We drop these rows."
   ]
  },
  {
   "cell_type": "code",
   "execution_count": 15,
   "id": "lined-component",
   "metadata": {},
   "outputs": [],
   "source": [
    "# drop rows for umber of houses with less than 1 Building area (uninary operator for removing data) \n",
    "df = df[~(df['BuildingArea'] < 1)]  "
   ]
  },
  {
   "cell_type": "markdown",
   "id": "representative-leone",
   "metadata": {},
   "source": [
    "Since there are missing values in the data we reset the index for dataframe."
   ]
  },
  {
   "cell_type": "code",
   "execution_count": 16,
   "id": "unique-negotiation",
   "metadata": {},
   "outputs": [],
   "source": [
    "df = df.reset_index()"
   ]
  },
  {
   "cell_type": "markdown",
   "id": "narrative-exhibition",
   "metadata": {},
   "source": [
    "Since BuildingArea coulumn has a maximum value of 4, clearly a wrong entry. Analze with Boxplot for outliers."
   ]
  },
  {
   "cell_type": "code",
   "execution_count": 17,
   "id": "responsible-president",
   "metadata": {},
   "outputs": [
    {
     "data": {
      "image/png": "[encoded data removed]",
      "text/plain": [
       "<Figure size 432x288 with 1 Axes>"
      ]
     },
     "metadata": {
      "needs_background": "light"
     },
     "output_type": "display_data"
    }
   ],
   "source": [
    "sns.boxplot(data= df,y='BuildingArea');"
   ]
  },
  {
   "cell_type": "markdown",
   "id": "regulation-driving",
   "metadata": {},
   "source": [
    "Absolutely right ,assumption was right. Further we analyse the row and rectify the data point."
   ]
  },
  {
   "cell_type": "code",
   "execution_count": 18,
   "id": "lonely-coverage",
   "metadata": {},
   "outputs": [
    {
     "data": {
      "text/html": [
       "<div>\n",
       "<style scoped>\n",
       "    .dataframe tbody tr th:only-of-type {\n",
       "        vertical-align: middle;\n",
       "    }\n",
       "\n",
       "    .dataframe tbody tr th {\n",
       "        vertical-align: top;\n",
       "    }\n",
       "\n",
       "    .dataframe thead th {\n",
       "        text-align: right;\n",
       "    }\n",
       "</style>\n",
       "<table border=\"1\" class=\"dataframe\">\n",
       "  <thead>\n",
       "    <tr style=\"text-align: right;\">\n",
       "      <th></th>\n",
       "      <th>index</th>\n",
       "      <th>Suburb</th>\n",
       "      <th>Address</th>\n",
       "      <th>Rooms</th>\n",
       "      <th>Type</th>\n",
       "      <th>Price</th>\n",
       "      <th>Method</th>\n",
       "      <th>SellerG</th>\n",
       "      <th>Date</th>\n",
       "      <th>Distance</th>\n",
       "      <th>Postcode</th>\n",
       "      <th>Bathroom</th>\n",
       "      <th>Car</th>\n",
       "      <th>Landsize</th>\n",
       "      <th>BuildingArea</th>\n",
       "      <th>YearBuilt</th>\n",
       "      <th>CouncilArea</th>\n",
       "      <th>Lattitude</th>\n",
       "      <th>Longtitude</th>\n",
       "      <th>Regionname</th>\n",
       "      <th>Propertycount</th>\n",
       "    </tr>\n",
       "  </thead>\n",
       "  <tbody>\n",
       "    <tr>\n",
       "      <th>22614</th>\n",
       "      <td>22632</td>\n",
       "      <td>New Gisborne</td>\n",
       "      <td>71 Hamilton Rd</td>\n",
       "      <td>5</td>\n",
       "      <td>h</td>\n",
       "      <td>1355000.0</td>\n",
       "      <td>S</td>\n",
       "      <td>Raine</td>\n",
       "      <td>23/09/2017</td>\n",
       "      <td>48.1</td>\n",
       "      <td>3438</td>\n",
       "      <td>3.0</td>\n",
       "      <td>5.0</td>\n",
       "      <td>44500.0</td>\n",
       "      <td>44515.0</td>\n",
       "      <td>NaN</td>\n",
       "      <td>Macedon Ranges Shire Council</td>\n",
       "      <td>-37.45392</td>\n",
       "      <td>144.58864</td>\n",
       "      <td>Northern Victoria</td>\n",
       "      <td>849</td>\n",
       "    </tr>\n",
       "  </tbody>\n",
       "</table>\n",
       "</div>"
      ],
      "text/plain": [
       "       index        Suburb         Address  Rooms Type      Price Method  \\\n",
       "22614  22632  New Gisborne  71 Hamilton Rd      5    h  1355000.0      S   \n",
       "\n",
       "      SellerG        Date  Distance Postcode  Bathroom  Car  Landsize  \\\n",
       "22614   Raine  23/09/2017      48.1     3438       3.0  5.0   44500.0   \n",
       "\n",
       "       BuildingArea  YearBuilt                   CouncilArea  Lattitude  \\\n",
       "22614       44515.0        NaN  Macedon Ranges Shire Council  -37.45392   \n",
       "\n",
       "       Longtitude         Regionname Propertycount  \n",
       "22614   144.58864  Northern Victoria           849  "
      ]
     },
     "execution_count": 18,
     "metadata": {},
     "output_type": "execute_result"
    }
   ],
   "source": [
    "# view the row\n",
    "df[df['BuildingArea']>40000]"
   ]
  },
  {
   "cell_type": "markdown",
   "id": "banned-kinase",
   "metadata": {},
   "source": [
    "The value is clearly absurd and should be 455, the data entry person must have moved two decimal points further!"
   ]
  },
  {
   "cell_type": "code",
   "execution_count": 19,
   "id": "realistic-delta",
   "metadata": {},
   "outputs": [],
   "source": [
    "# replace 44500.0 with 445\n",
    "df['BuildingArea'].replace(44515.0, 445.15, inplace=True)"
   ]
  },
  {
   "cell_type": "markdown",
   "id": "naval-creator",
   "metadata": {},
   "source": [
    "Check for duplicate values using pandas dataframe duplicated method. "
   ]
  },
  {
   "cell_type": "code",
   "execution_count": 20,
   "id": "printable-notification",
   "metadata": {},
   "outputs": [
    {
     "data": {
      "text/plain": [
       "False"
      ]
     },
     "execution_count": 20,
     "metadata": {},
     "output_type": "execute_result"
    }
   ],
   "source": [
    "# check total duplicated values\n",
    "df.duplicated().any()"
   ]
  },
  {
   "cell_type": "markdown",
   "id": "ignored-phase",
   "metadata": {},
   "source": [
    "We have no duplicate data."
   ]
  },
  {
   "cell_type": "markdown",
   "id": "chinese-bikini",
   "metadata": {},
   "source": [
    "The pandas method __dtypes.value_counts()__ provides the number of columns of each type in the dataframe."
   ]
  },
  {
   "cell_type": "code",
   "execution_count": 21,
   "id": "employed-medline",
   "metadata": {},
   "outputs": [
    {
     "data": {
      "text/plain": [
       "object     10\n",
       "float64     9\n",
       "int64       2\n",
       "dtype: int64"
      ]
     },
     "execution_count": 21,
     "metadata": {},
     "output_type": "execute_result"
    }
   ],
   "source": [
    "df.dtypes.value_counts()"
   ]
  },
  {
   "cell_type": "markdown",
   "id": "supposed-glory",
   "metadata": {},
   "source": [
    "From the above results, out of 20 columns 9 are float values, 8 are object (character values) and 1 is integer value, one integer column is index."
   ]
  },
  {
   "cell_type": "markdown",
   "id": "bibliographic-decline",
   "metadata": {},
   "source": [
    "__Save the cleaner version of dataframe for future analysis.__"
   ]
  },
  {
   "cell_type": "code",
   "execution_count": 22,
   "id": "defensive-joseph",
   "metadata": {},
   "outputs": [],
   "source": [
    "# save data\n",
    "df.drop(columns=['index'],inplace=True)\n",
    "df.to_csv('data/data_v1.csv',index=False)"
   ]
  },
  {
   "cell_type": "markdown",
   "id": "false-treasury",
   "metadata": {},
   "source": [
    "> Next notebook involves removal of outliers and taking closer look at attributes. In notebook title : NB2_FeatureEngineering."
   ]
  }
 ],
 "metadata": {
  "kernelspec": {
   "display_name": "Python 3",
   "language": "python",
   "name": "python3"
  },
  "language_info": {
   "codemirror_mode": {
    "name": "ipython",
    "version": 3
   },
   "file_extension": ".py",
   "mimetype": "text/x-python",
   "name": "python",
   "nbconvert_exporter": "python",
   "pygments_lexer": "ipython3",
   "version": "3.6.12"
  }
 },
 "nbformat": 4,
 "nbformat_minor": 5
}
