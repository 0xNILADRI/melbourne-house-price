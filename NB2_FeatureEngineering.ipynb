{
 "cells": [
  {
   "cell_type": "markdown",
   "id": "hawaiian-island",
   "metadata": {},
   "source": [
    "# 2.0 Notebook 2: Feature Engineering\n",
    "\n",
    "We have now acquired a good intuition of our data. Next step involves taking a deep dive into the data. In this section, we will rectify the quality issues with the data.\n",
    "\n",
    "### 2.1. Introduction\n",
    "\n",
    "What do we know of Feature Engineering? The main essense of machine learning ischoosing features, what is a feature and why do we need to engineer it? Simply puting into words all machine learning algorithms use some input data to create outputs. This input data comprise features, which are usually in the form of structured columns. Algorithms require features with some specific characteristic to work properly.Therefor we require feature engineering. Main objectives :\n",
    "\n",
    "* Prepare the accurate input dataset, compatible with the machine learning algorithm requirements \n",
    "* Improve the performance of machine learning models.\n",
    "\n",
    "### 2.2 Objective\n",
    "\n",
    "Since many features in our data is categorical value, we need to find appropriate techniques to convert them into integers, as our model only inputs numerical values, remove outliers,etc. Few operations to be performed here:\n",
    "1. Imputation\n",
    "2. Handling Outliers\n",
    "3. Log Transform\n",
    "4. One-Hot Encoding\n",
    "5. Feature Split\n",
    "6. Scaling\n",
    "7. Extracting Date\n",
    "\n",
    "> Thus, the goal here is to properly mould our dataset to fit perfectly into our model. \n"
   ]
  },
  {
   "cell_type": "code",
   "execution_count": null,
   "id": "complicated-egypt",
   "metadata": {},
   "outputs": [],
   "source": []
  }
 ],
 "metadata": {
  "kernelspec": {
   "display_name": "Python 3",
   "language": "python",
   "name": "python3"
  },
  "language_info": {
   "codemirror_mode": {
    "name": "ipython",
    "version": 3
   },
   "file_extension": ".py",
   "mimetype": "text/x-python",
   "name": "python",
   "nbconvert_exporter": "python",
   "pygments_lexer": "ipython3",
   "version": "3.6.12"
  }
 },
 "nbformat": 4,
 "nbformat_minor": 5
}
