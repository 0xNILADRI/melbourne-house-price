{
 "cells": [
  {
   "cell_type": "markdown",
   "metadata": {},
   "source": [
    "## Objective\n",
    "\n",
    "Our main motive in this section is to optimise our best performing model; Random Forest. For fine tuning the model we will use two cross validation methods provided by sklearn:\n",
    "\n",
    "* GridSearchCV\n",
    "* RandomizedSearchCV"
   ]
  },
  {
   "cell_type": "markdown",
   "metadata": {},
   "source": [
    "__Load necessary libraries__"
   ]
  },
  {
   "cell_type": "code",
   "execution_count": 30,
   "metadata": {},
   "outputs": [],
   "source": [
    "# load libraries\n",
    "import numpy as np\n",
    "import pandas as pd\n",
    "import matplotlib.pyplot as plt\n",
    "import seaborn as sns\n",
    "import sklearn\n",
    "from sklearn.model_selection import train_test_split\n",
    "from sklearn.ensemble import RandomForestRegressor\n",
    "from sklearn.preprocessing import RobustScaler\n",
    "from sklearn.metrics import mean_squared_error\n",
    "from sklearn.model_selection import RandomizedSearchCV\n",
    "from sklearn.model_selection import GridSearchCV\n",
    "\n",
    "\n",
    "import warnings\n",
    "# ignore warnings\n",
    "warnings.simplefilter(action='ignore', category=FutureWarning)\n",
    "\n",
    "# display all columns\n",
    "pd.set_option('display.max_columns', None)\n",
    "\n",
    "%matplotlib inline"
   ]
  },
  {
   "cell_type": "code",
   "execution_count": 2,
   "metadata": {},
   "outputs": [],
   "source": [
    "# load data\n",
    "df = pd.read_csv(\"data/data_final.csv\",index_col=False)"
   ]
  },
  {
   "cell_type": "markdown",
   "metadata": {},
   "source": [
    "### Feature Scaling\n",
    "\n",
    "Feature Scaling is a technique to standardize the independent features present in the data in a fixed range. It is performed during the data pre-processing to handle highly varying magnitudes or values or units. If feature scaling is not done, then a machine learning algorithm tends to weigh greater values, higher and consider smaller values as the lower values, regardless of the unit of the values."
   ]
  },
  {
   "cell_type": "code",
   "execution_count": 3,
   "metadata": {},
   "outputs": [],
   "source": [
    "#create feature (x) and target (y) variables\n",
    "x = df.drop(\"Price\", axis=1)\n",
    "Y = df[\"Price\"].copy()"
   ]
  },
  {
   "cell_type": "code",
   "execution_count": 4,
   "metadata": {},
   "outputs": [],
   "source": [
    "#feature scaling using robust scaler\n",
    "scaler = RobustScaler()\n",
    "df = scaler.fit_transform(df.astype(np.float64))"
   ]
  },
  {
   "cell_type": "code",
   "execution_count": 5,
   "metadata": {},
   "outputs": [],
   "source": [
    "x_train, x_test, Y_train, Y_test = train_test_split(x,Y, test_size = .20)"
   ]
  },
  {
   "cell_type": "markdown",
   "metadata": {},
   "source": [
    "Let us create the instance for Random Forest."
   ]
  },
  {
   "cell_type": "code",
   "execution_count": 6,
   "metadata": {},
   "outputs": [],
   "source": [
    "#create instance\n",
    "forest = RandomForestRegressor()"
   ]
  },
  {
   "cell_type": "code",
   "execution_count": 7,
   "metadata": {},
   "outputs": [
    {
     "data": {
      "text/plain": [
       "RandomForestRegressor()"
      ]
     },
     "execution_count": 7,
     "metadata": {},
     "output_type": "execute_result"
    }
   ],
   "source": [
    "#fit data into model\n",
    "forest.fit(x_train, Y_train)"
   ]
  },
  {
   "cell_type": "markdown",
   "metadata": {},
   "source": [
    "### Grid Search CV \n",
    "\n",
    "We will adjust the RF hyperparameters to fine tune our model.\n",
    "\n",
    "Most important hyperparameters of Random Forest:\n",
    "\n",
    "* n_estimators = number of trees\n",
    "* max_features = max number of features considered for splitting a node\n",
    "* max_depth = max number of levels in each decision tree\n",
    "* min_samples_split = min number of data points placed in a node before the node is split\n",
    "* min_samples_leaf = min number of data points allowed in a leaf node\n",
    "* bootstrap = method for sampling data points (with or without replacement)"
   ]
  },
  {
   "cell_type": "code",
   "execution_count": null,
   "metadata": {},
   "outputs": [],
   "source": [
    "param_grid = [{'n_estimators': [10, 25], 'max_features': [5, 10],'max_depth': [10, 50, None], 'bootstrap': [True, False]}]\n",
    "\n",
    "gridcv_forest = GridSearchCV(forest, param_grid, cv=10, scoring='neg_mean_squared_error')\n",
    "gridcv_forest.fit(x_train, Y_train)"
   ]
  },
  {
   "cell_type": "markdown",
   "metadata": {},
   "source": [
    "Best hyperparameters as calculated by GridSearch"
   ]
  },
  {
   "cell_type": "code",
   "execution_count": null,
   "metadata": {},
   "outputs": [],
   "source": [
    "#find the best model of grid search\n",
    "gridcv_forest.best_estimator_"
   ]
  },
  {
   "cell_type": "code",
   "execution_count": null,
   "metadata": {},
   "outputs": [],
   "source": [
    "# check accuracy and RMSE on train data\n",
    "print('************** Train Dataset **************')\n",
    "grid_best_train = gridcv_forest.best_estimator_.predict(x_train)\n",
    "errors = abs(grid_best_train - Y_train)\n",
    "mape = np.mean(100 * (errors / Y_train))\n",
    "accuracy = 100 - mape    \n",
    "print('Best model hypertuned by grid search has an accuracy of', round(accuracy, 2),'%')\n",
    "\n",
    "grid_mse = mean_squared_error(Y_train, grid_best_train)\n",
    "grid_rmse = np.sqrt(grid_mse)\n",
    "print('Best model hypertuned by grid search has a RMSE of', round(grid_rmse, 2))"
   ]
  },
  {
   "cell_type": "code",
   "execution_count": null,
   "metadata": {},
   "outputs": [],
   "source": [
    "# check accuracy and RMSE on test data\n",
    "print('************** Test Dataset **************')\n",
    "grid_best_test = gridcv_forest.best_estimator_.predict(x_test)\n",
    "errors = abs(grid_best_test - Y_test)\n",
    "mape = np.mean(100 * (errors / Y_test))\n",
    "accuracy = 100 - mape    \n",
    "print('Best model hypertuned by grid search has an accuracy of', round(accuracy, 2),'%')\n",
    "\n",
    "grid_mse = mean_squared_error(Y_test, grid_best_test)\n",
    "grid_rmse = np.sqrt(grid_mse)\n",
    "print('Best model hypertuned by grid search has a RMSE of', round(grid_rmse, 2))"
   ]
  },
  {
   "cell_type": "markdown",
   "metadata": {},
   "source": [
    "### Randomized Search CV\n",
    "\n",
    "One of the demerits of using Grid Search is that its too costly, as many combinations are tested. Therefor we proceed with Ramdomized Search CV that uses only difined number of random combinations for each parameter at every iteration as provided by user."
   ]
  },
  {
   "cell_type": "code",
   "execution_count": 19,
   "metadata": {},
   "outputs": [],
   "source": [
    "# create parameters\n",
    "n_estimators = [int(x) for x in np.linspace(start = 20, stop = 200, num = 5)]\n",
    "max_features = ['auto', 'sqrt']\n",
    "max_depth = [int(x) for x in np.linspace(1, 45, num = 3)]\n",
    "min_samples_split = [5, 10]\n",
    "\n",
    "# Create the random grid\n",
    "random_grid = {'n_estimators': n_estimators,\n",
    "               'max_features': max_features,\n",
    "               'max_depth': max_depth,\n",
    "               'min_samples_split': min_samples_split}"
   ]
  },
  {
   "cell_type": "markdown",
   "metadata": {},
   "source": [
    "Use random search cv to find out best hyperparameters"
   ]
  },
  {
   "cell_type": "code",
   "execution_count": null,
   "metadata": {},
   "outputs": [],
   "source": [
    "rcv = RandomizedSearchCV(estimator = forest, param_distributions = random_grid, n_iter = 10, \n",
    "                               cv = 10, verbose=2, n_jobs = -1, scoring='neg_mean_squared_error')\n",
    "# Fit the random search model\n",
    "rcv.fit(x_train, Y_train)"
   ]
  },
  {
   "cell_type": "markdown",
   "metadata": {},
   "source": [
    "Best hyperparameters as calculated by GridSearch"
   ]
  },
  {
   "cell_type": "code",
   "execution_count": null,
   "metadata": {},
   "outputs": [],
   "source": [
    "# best random serach model \n",
    "rcv.best_params_"
   ]
  },
  {
   "cell_type": "code",
   "execution_count": 23,
   "metadata": {},
   "outputs": [
    {
     "data": {
      "text/plain": [
       "RandomForestRegressor(max_depth=23, max_features='sqrt', min_samples_split=10,\n",
       "                      n_estimators=110)"
      ]
     },
     "execution_count": 23,
     "metadata": {},
     "output_type": "execute_result"
    }
   ],
   "source": [
    "# estimators used\n",
    "rcv.best_estimator_"
   ]
  },
  {
   "cell_type": "code",
   "execution_count": null,
   "metadata": {},
   "outputs": [],
   "source": [
    "# check accuracy and RMSE on train data\n",
    "print('************** Train Dataset **************')\n",
    "rcv_best_train = rcv.best_estimator_.predict(x_train)\n",
    "errors = abs(rcv_best_train - Y_train)\n",
    "mape = np.mean(100 * (errors / Y_train))\n",
    "accuracy = 100 - mape    \n",
    "print('Best model as calculated by randomized search has an accuracy of', round(accuracy, 2),'%')\n",
    "\n",
    "final_mse = mean_squared_error(Y_train, rcv_best_train)\n",
    "final_rmse = np.sqrt(final_mse)\n",
    "print('Best model as calculated by randomized search has a RMSE of', round(final_rmse, 2))"
   ]
  },
  {
   "cell_type": "code",
   "execution_count": null,
   "metadata": {},
   "outputs": [],
   "source": [
    "# check accuracy and RMSE on test data\n",
    "print('************** Test Dataset **************')\n",
    "rcv_best_test = rcv.best_estimator_.predict(x_test)\n",
    "errors = abs(rcv_best_test - Y_test)\n",
    "mape = np.mean(100 * (errors / Y_test))\n",
    "accuracy = 100 - mape    \n",
    "print('Best model as calculated by randomized search has an accuracy of', round(accuracy, 2),'%')\n",
    "\n",
    "final_mse = mean_squared_error(Y_test, rcv_best_test)\n",
    "final_rmse = np.sqrt(final_mse)\n",
    "print('Best model as calculated by randomized search has a RMSE of', round(final_rmse, 2))"
   ]
  },
  {
   "cell_type": "markdown",
   "metadata": {},
   "source": [
    "### Feature Importance\n",
    "\n",
    "Using our best parameters as provided by Random Search CV. We display which features plays major role in deciding the price of house."
   ]
  },
  {
   "cell_type": "code",
   "execution_count": null,
   "metadata": {},
   "outputs": [],
   "source": [
    "importances = rcv.best_estimator_.feature_importances_\n",
    "feature_list = list(x.columns)\n",
    "\n",
    "feature_importance= sorted(zip(importances, feature_list), reverse=True)\n",
    "\n",
    "#create two lists from the previous list of tuples\n",
    "df_imp = pd.DataFrame(feature_importance, columns=['importance', 'feature'])\n",
    "importance= list(df_imp['importance'])\n",
    "feature= list(df_imp['feature'])\n",
    "\n",
    "print(df_imp)"
   ]
  },
  {
   "cell_type": "markdown",
   "metadata": {},
   "source": [
    "Although the human mind doesn't grasp texual data we try to display this visually."
   ]
  },
  {
   "cell_type": "code",
   "execution_count": 33,
   "metadata": {},
   "outputs": [
    {
     "data": {
      "image/png": "[encoded data removed]",
      "text/plain": [
       "<Figure size 1080x720 with 1 Axes>"
      ]
     },
     "metadata": {
      "needs_background": "light"
     },
     "output_type": "display_data"
    }
   ],
   "source": [
    "x_values = list(range(len(feature_importance)))\n",
    "\n",
    "plt.figure(figsize=(15,10))\n",
    "plt.bar(x_values, importance, orientation = 'vertical')\n",
    "plt.xticks(x_values, feature, rotation='vertical')\n",
    "plt.ylabel('Importance'); \n",
    "plt.xlabel('Features'); \n",
    "plt.title('Important Features');"
   ]
  },
  {
   "cell_type": "markdown",
   "metadata": {},
   "source": [
    "### Conclusion :\n",
    "\n",
    "* The main feature that decides the price of a house is distance, which from the documentation we found out that it is the distance from nearest employment centers (offices)(in total 5). Next, 5 featues that plays a major role are Rooms, Longitude, Latitude, landsize and Southern Metropolitan Region, since we did onehot encode on categorical values, we were able to get this insight. Longitude and Latitude means geographical location which was expected, landsize and number of rooms. No brainer !\n",
    "\n",
    "* The type of the house seems less important than these two categories, as houseAge and Type_h are respectively 10th and 11th in this ranking. Category Type_t (or townhouse) is the less relevant feature in this cluster.\n",
    "\n",
    "* Date features (i.e. Year and the four seasons) are not that important, but in any case the year when the house was sold is slightly more important than the season."
   ]
  }
 ],
 "metadata": {
  "kernelspec": {
   "display_name": "Python 3",
   "language": "python",
   "name": "python3"
  },
  "language_info": {
   "codemirror_mode": {
    "name": "ipython",
    "version": 3
   },
   "file_extension": ".py",
   "mimetype": "text/x-python",
   "name": "python",
   "nbconvert_exporter": "python",
   "pygments_lexer": "ipython3",
   "version": "3.6.12"
  }
 },
 "nbformat": 4,
 "nbformat_minor": 4
}
